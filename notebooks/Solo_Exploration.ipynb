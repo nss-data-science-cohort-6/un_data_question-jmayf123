{
 "cells": [
  {
   "cell_type": "markdown",
   "metadata": {},
   "source": [
    "For my solo exploration, I want to look at different countries over time and compare their total consumpiton of electric power in thousands of kW per year. I also want to show how much of that total consumption is produceed by means of nuclear power.   "
   ]
  },
  {
   "cell_type": "code",
   "execution_count": 1,
   "metadata": {},
   "outputs": [],
   "source": [
    "import pandas as pd\n",
    "import numpy as np \n",
    "import matplotlib.pyplot as plt"
   ]
  },
  {
   "cell_type": "markdown",
   "metadata": {},
   "source": [
    "Read only data rows into the dataframes. "
   ]
  },
  {
   "cell_type": "code",
   "execution_count": 2,
   "metadata": {},
   "outputs": [],
   "source": [
    "total_electricity = pd.read_csv('../data/total_electricity.csv',nrows=100000) #Contains the total electricty consumption of each contry for each year\n",
    "nuclear_electricity = pd.read_csv('../data/nuclear_electricity.csv',nrows=915) #Contains the total nuclear "
   ]
  },
  {
   "cell_type": "markdown",
   "metadata": {},
   "source": [
    "Drop the footnotes column for cleaner look. Check the data types of each of the columns. "
   ]
  },
  {
   "cell_type": "code",
   "execution_count": 3,
   "metadata": {},
   "outputs": [
    {
     "name": "stdout",
     "output_type": "stream",
     "text": [
      "Total Electricity:\n",
      " Country or Area             object\n",
      "Commodity - Transaction     object\n",
      "Year                         int64\n",
      "Unit                        object\n",
      "Quantity                   float64\n",
      "dtype: object \n",
      "\n",
      "Nuclear Electricity:\n",
      " Country or Area             object\n",
      "Commodity - Transaction     object\n",
      "Year                         int64\n",
      "Unit                        object\n",
      "Quantity                   float64\n",
      "Quantity Footnotes         float64\n",
      "dtype: object\n"
     ]
    }
   ],
   "source": [
    "total_electricity = total_electricity.drop(columns=['Quantity Footnotes'])\n",
    "\n",
    "total_electricity_consumption = total_electricity[(total_electricity['Commodity - Transaction'] == 'Electricity - Final energy consumption')]\n",
    "nuclear_electriciy_production = nuclear_electricity.drop(columns=['Quantity Footnotes'])\n",
    "\n",
    "print('Total Electricity:\\n',total_electricity.dtypes,'\\n\\nNuclear Electricity:\\n',nuclear_electricity.dtypes)"
   ]
  },
  {
   "cell_type": "markdown",
   "metadata": {},
   "source": [
    "Lets first look at the total electricity consumption for each country in a recent year with adequate data, 2019. This way we can estimate countries with the highest engergy consumptions. "
   ]
  },
  {
   "cell_type": "code",
   "execution_count": 13,
   "metadata": {},
   "outputs": [],
   "source": [
    "total_electricity_consumption_2019 = total_electricity_consumption[total_electricity_consumption['Year'] == 2019]\n",
    "total_nuclear_production_2019 = nuclear_electriciy_production[nuclear_electriciy_production['Year'] == 2019]"
   ]
  },
  {
   "cell_type": "code",
   "execution_count": 5,
   "metadata": {},
   "outputs": [
    {
     "data": {
      "text/plain": [
       "count       125.00\n",
       "mean     110837.11\n",
       "std      584041.16\n",
       "min          17.80\n",
       "25%         635.00\n",
       "50%        6484.17\n",
       "75%       30930.00\n",
       "max     6298689.00\n",
       "Name: Quantity, dtype: float64"
      ]
     },
     "execution_count": 5,
     "metadata": {},
     "output_type": "execute_result"
    }
   ],
   "source": [
    "pd.set_option('display.float_format', lambda x: '%.2f' % x) #Set floats to 2 decimal points\n",
    "total_electricity_consumption_2019['Quantity'].describe() #Summary stats on the Electric consumption 2019\n"
   ]
  },
  {
   "cell_type": "code",
   "execution_count": 6,
   "metadata": {},
   "outputs": [
    {
     "data": {
      "image/png": "[encoded data removed]",
      "text/plain": [
       "<Figure size 2160x720 with 1 Axes>"
      ]
     },
     "metadata": {
      "needs_background": "light"
     },
     "output_type": "display_data"
    }
   ],
   "source": [
    "#This will give the top 10 consumers of elctricity for the year 2019, we just want a glimpse of some of the top countries\n",
    "fig_1_data = total_electricity_consumption_2019.sort_values(by=['Quantity'], ascending=False).iloc[0:10,:]\n",
    "\n",
    "plt.rcParams[\"figure.figsize\"] = [30, 10]\n",
    "plt.rcParams[\"figure.autolayout\"] = True\n",
    "plt.bar(fig_1_data['Country or Area'],fig_1_data['Quantity'])\n",
    "plt.xlabel('Country')\n",
    "plt.ylabel('Millions of kW-hrs')\n",
    "plt.title('Top 20 Countries in Electricity Consumption in 2019')\n",
    "plt.show()\n"
   ]
  },
  {
   "cell_type": "code",
   "execution_count": 7,
   "metadata": {},
   "outputs": [
    {
     "name": "stdout",
     "output_type": "stream",
     "text": [
      "Top ten countries in enrgy consumtion: \n",
      " 32145                     China\n",
      "74863                     India\n",
      "83574                     Japan\n",
      "28249                    Canada\n",
      "89034        Korea, Republic of\n",
      "21695                    Brazil\n",
      "62077                   Germany\n",
      "56743                    France\n",
      "81215                     Italy\n",
      "76591    Iran (Islamic Rep. of)\n",
      "Name: Country or Area, dtype: object\n"
     ]
    }
   ],
   "source": [
    "print('Top ten countries in enrgy consumtion: \\n', fig_1_data['Country or Area'])"
   ]
  },
  {
   "cell_type": "markdown",
   "metadata": {},
   "source": [
    "For some reason, The US which is a top consumer of electricity, is not showing up on my list. I believe this was an issue with the original UN data categories. They were not included in the UN in the Final consumtion category for some reason.  "
   ]
  },
  {
   "cell_type": "markdown",
   "metadata": {},
   "source": [
    "Now that we have an idea of which countries consume a majority of the electricity, we will use those top 10 to compare how much of that energy was produced by nuclear. I imagine that most of these countries still produce a majority of their energy from coal and other sources so these should relatively low values. "
   ]
  },
  {
   "cell_type": "code",
   "execution_count": 19,
   "metadata": {},
   "outputs": [
    {
     "ename": "TypeError",
     "evalue": "unhashable type: 'numpy.ndarray'",
     "output_type": "error",
     "traceback": [
      "\u001b[1;31m---------------------------------------------------------------------------\u001b[0m",
      "\u001b[1;31mTypeError\u001b[0m                                 Traceback (most recent call last)",
      "\u001b[1;32mc:\\Users\\jacks\\Documents\\NSS\\un_data_question-jmayf123\\notebooks\\Solo_Exploration.ipynb Cell 14\u001b[0m in \u001b[0;36m<cell line: 4>\u001b[1;34m()\u001b[0m\n\u001b[0;32m      <a href='vscode-notebook-cell:/c%3A/Users/jacks/Documents/NSS/un_data_question-jmayf123/notebooks/Solo_Exploration.ipynb#X14sZmlsZQ%3D%3D?line=1'>2</a>\u001b[0m nuclear_prod_y \u001b[39m=\u001b[39m total_nuclear_production_2019[total_nuclear_production_2019[\u001b[39m'\u001b[39m\u001b[39mCountry or Area\u001b[39m\u001b[39m'\u001b[39m]\u001b[39m.\u001b[39misin(fig_1_data[\u001b[39m'\u001b[39m\u001b[39mCountry or Area\u001b[39m\u001b[39m'\u001b[39m])]\n\u001b[0;32m      <a href='vscode-notebook-cell:/c%3A/Users/jacks/Documents/NSS/un_data_question-jmayf123/notebooks/Solo_Exploration.ipynb#X14sZmlsZQ%3D%3D?line=2'>3</a>\u001b[0m fig_2, ax \u001b[39m=\u001b[39m plt\u001b[39m.\u001b[39msubplots()\n\u001b[1;32m----> <a href='vscode-notebook-cell:/c%3A/Users/jacks/Documents/NSS/un_data_question-jmayf123/notebooks/Solo_Exploration.ipynb#X14sZmlsZQ%3D%3D?line=3'>4</a>\u001b[0m nuclear_prod \u001b[39m=\u001b[39m ax\u001b[39m.\u001b[39;49mbar(label\u001b[39m=\u001b[39;49m\u001b[39m'\u001b[39;49m\u001b[39mNuclear Electricity Production\u001b[39;49m\u001b[39m'\u001b[39;49m\n\u001b[0;32m      <a href='vscode-notebook-cell:/c%3A/Users/jacks/Documents/NSS/un_data_question-jmayf123/notebooks/Solo_Exploration.ipynb#X14sZmlsZQ%3D%3D?line=4'>5</a>\u001b[0m                     ,x \u001b[39m=\u001b[39;49m nuclear_prod_x\n\u001b[0;32m      <a href='vscode-notebook-cell:/c%3A/Users/jacks/Documents/NSS/un_data_question-jmayf123/notebooks/Solo_Exploration.ipynb#X14sZmlsZQ%3D%3D?line=5'>6</a>\u001b[0m                     ,height \u001b[39m=\u001b[39;49m nuclear_prod_y\n\u001b[0;32m      <a href='vscode-notebook-cell:/c%3A/Users/jacks/Documents/NSS/un_data_question-jmayf123/notebooks/Solo_Exploration.ipynb#X14sZmlsZQ%3D%3D?line=6'>7</a>\u001b[0m                     )\n",
      "File \u001b[1;32mc:\\Users\\jacks\\anaconda3\\lib\\site-packages\\matplotlib\\__init__.py:1412\u001b[0m, in \u001b[0;36m_preprocess_data.<locals>.inner\u001b[1;34m(ax, data, *args, **kwargs)\u001b[0m\n\u001b[0;32m   1409\u001b[0m \u001b[39m@functools\u001b[39m\u001b[39m.\u001b[39mwraps(func)\n\u001b[0;32m   1410\u001b[0m \u001b[39mdef\u001b[39;00m \u001b[39minner\u001b[39m(ax, \u001b[39m*\u001b[39margs, data\u001b[39m=\u001b[39m\u001b[39mNone\u001b[39;00m, \u001b[39m*\u001b[39m\u001b[39m*\u001b[39mkwargs):\n\u001b[0;32m   1411\u001b[0m     \u001b[39mif\u001b[39;00m data \u001b[39mis\u001b[39;00m \u001b[39mNone\u001b[39;00m:\n\u001b[1;32m-> 1412\u001b[0m         \u001b[39mreturn\u001b[39;00m func(ax, \u001b[39m*\u001b[39m\u001b[39mmap\u001b[39m(sanitize_sequence, args), \u001b[39m*\u001b[39m\u001b[39m*\u001b[39mkwargs)\n\u001b[0;32m   1414\u001b[0m     bound \u001b[39m=\u001b[39m new_sig\u001b[39m.\u001b[39mbind(ax, \u001b[39m*\u001b[39margs, \u001b[39m*\u001b[39m\u001b[39m*\u001b[39mkwargs)\n\u001b[0;32m   1415\u001b[0m     auto_label \u001b[39m=\u001b[39m (bound\u001b[39m.\u001b[39marguments\u001b[39m.\u001b[39mget(label_namer)\n\u001b[0;32m   1416\u001b[0m                   \u001b[39mor\u001b[39;00m bound\u001b[39m.\u001b[39mkwargs\u001b[39m.\u001b[39mget(label_namer))\n",
      "File \u001b[1;32mc:\\Users\\jacks\\anaconda3\\lib\\site-packages\\matplotlib\\axes\\_axes.py:2317\u001b[0m, in \u001b[0;36mAxes.bar\u001b[1;34m(self, x, height, width, bottom, align, **kwargs)\u001b[0m\n\u001b[0;32m   2314\u001b[0m         x \u001b[39m=\u001b[39m \u001b[39m0\u001b[39m\n\u001b[0;32m   2316\u001b[0m \u001b[39mif\u001b[39;00m orientation \u001b[39m==\u001b[39m \u001b[39m'\u001b[39m\u001b[39mvertical\u001b[39m\u001b[39m'\u001b[39m:\n\u001b[1;32m-> 2317\u001b[0m     \u001b[39mself\u001b[39;49m\u001b[39m.\u001b[39;49m_process_unit_info(\n\u001b[0;32m   2318\u001b[0m         [(\u001b[39m\"\u001b[39;49m\u001b[39mx\u001b[39;49m\u001b[39m\"\u001b[39;49m, x), (\u001b[39m\"\u001b[39;49m\u001b[39my\u001b[39;49m\u001b[39m\"\u001b[39;49m, height)], kwargs, convert\u001b[39m=\u001b[39;49m\u001b[39mFalse\u001b[39;49;00m)\n\u001b[0;32m   2319\u001b[0m     \u001b[39mif\u001b[39;00m log:\n\u001b[0;32m   2320\u001b[0m         \u001b[39mself\u001b[39m\u001b[39m.\u001b[39mset_yscale(\u001b[39m'\u001b[39m\u001b[39mlog\u001b[39m\u001b[39m'\u001b[39m, nonpositive\u001b[39m=\u001b[39m\u001b[39m'\u001b[39m\u001b[39mclip\u001b[39m\u001b[39m'\u001b[39m)\n",
      "File \u001b[1;32mc:\\Users\\jacks\\anaconda3\\lib\\site-packages\\matplotlib\\axes\\_base.py:2521\u001b[0m, in \u001b[0;36m_AxesBase._process_unit_info\u001b[1;34m(self, datasets, kwargs, convert)\u001b[0m\n\u001b[0;32m   2519\u001b[0m     \u001b[39m# Update from data if axis is already set but no unit is set yet.\u001b[39;00m\n\u001b[0;32m   2520\u001b[0m     \u001b[39mif\u001b[39;00m axis \u001b[39mis\u001b[39;00m \u001b[39mnot\u001b[39;00m \u001b[39mNone\u001b[39;00m \u001b[39mand\u001b[39;00m data \u001b[39mis\u001b[39;00m \u001b[39mnot\u001b[39;00m \u001b[39mNone\u001b[39;00m \u001b[39mand\u001b[39;00m \u001b[39mnot\u001b[39;00m axis\u001b[39m.\u001b[39mhave_units():\n\u001b[1;32m-> 2521\u001b[0m         axis\u001b[39m.\u001b[39;49mupdate_units(data)\n\u001b[0;32m   2522\u001b[0m \u001b[39mfor\u001b[39;00m axis_name, axis \u001b[39min\u001b[39;00m axis_map\u001b[39m.\u001b[39mitems():\n\u001b[0;32m   2523\u001b[0m     \u001b[39m# Return if no axis is set.\u001b[39;00m\n\u001b[0;32m   2524\u001b[0m     \u001b[39mif\u001b[39;00m axis \u001b[39mis\u001b[39;00m \u001b[39mNone\u001b[39;00m:\n",
      "File \u001b[1;32mc:\\Users\\jacks\\anaconda3\\lib\\site-packages\\matplotlib\\axis.py:1449\u001b[0m, in \u001b[0;36mAxis.update_units\u001b[1;34m(self, data)\u001b[0m\n\u001b[0;32m   1447\u001b[0m neednew \u001b[39m=\u001b[39m \u001b[39mself\u001b[39m\u001b[39m.\u001b[39mconverter \u001b[39m!=\u001b[39m converter\n\u001b[0;32m   1448\u001b[0m \u001b[39mself\u001b[39m\u001b[39m.\u001b[39mconverter \u001b[39m=\u001b[39m converter\n\u001b[1;32m-> 1449\u001b[0m default \u001b[39m=\u001b[39m \u001b[39mself\u001b[39;49m\u001b[39m.\u001b[39;49mconverter\u001b[39m.\u001b[39;49mdefault_units(data, \u001b[39mself\u001b[39;49m)\n\u001b[0;32m   1450\u001b[0m \u001b[39mif\u001b[39;00m default \u001b[39mis\u001b[39;00m \u001b[39mnot\u001b[39;00m \u001b[39mNone\u001b[39;00m \u001b[39mand\u001b[39;00m \u001b[39mself\u001b[39m\u001b[39m.\u001b[39munits \u001b[39mis\u001b[39;00m \u001b[39mNone\u001b[39;00m:\n\u001b[0;32m   1451\u001b[0m     \u001b[39mself\u001b[39m\u001b[39m.\u001b[39mset_units(default)\n",
      "File \u001b[1;32mc:\\Users\\jacks\\anaconda3\\lib\\site-packages\\matplotlib\\category.py:116\u001b[0m, in \u001b[0;36mStrCategoryConverter.default_units\u001b[1;34m(data, axis)\u001b[0m\n\u001b[0;32m    114\u001b[0m \u001b[39m# the conversion call stack is default_units -> axis_info -> convert\u001b[39;00m\n\u001b[0;32m    115\u001b[0m \u001b[39mif\u001b[39;00m axis\u001b[39m.\u001b[39munits \u001b[39mis\u001b[39;00m \u001b[39mNone\u001b[39;00m:\n\u001b[1;32m--> 116\u001b[0m     axis\u001b[39m.\u001b[39mset_units(UnitData(data))\n\u001b[0;32m    117\u001b[0m \u001b[39melse\u001b[39;00m:\n\u001b[0;32m    118\u001b[0m     axis\u001b[39m.\u001b[39munits\u001b[39m.\u001b[39mupdate(data)\n",
      "File \u001b[1;32mc:\\Users\\jacks\\anaconda3\\lib\\site-packages\\matplotlib\\category.py:192\u001b[0m, in \u001b[0;36mUnitData.__init__\u001b[1;34m(self, data)\u001b[0m\n\u001b[0;32m    190\u001b[0m \u001b[39mself\u001b[39m\u001b[39m.\u001b[39m_counter \u001b[39m=\u001b[39m itertools\u001b[39m.\u001b[39mcount()\n\u001b[0;32m    191\u001b[0m \u001b[39mif\u001b[39;00m data \u001b[39mis\u001b[39;00m \u001b[39mnot\u001b[39;00m \u001b[39mNone\u001b[39;00m:\n\u001b[1;32m--> 192\u001b[0m     \u001b[39mself\u001b[39;49m\u001b[39m.\u001b[39;49mupdate(data)\n",
      "File \u001b[1;32mc:\\Users\\jacks\\anaconda3\\lib\\site-packages\\matplotlib\\category.py:225\u001b[0m, in \u001b[0;36mUnitData.update\u001b[1;34m(self, data)\u001b[0m\n\u001b[0;32m    223\u001b[0m \u001b[39m# check if convertible to number:\u001b[39;00m\n\u001b[0;32m    224\u001b[0m convertible \u001b[39m=\u001b[39m \u001b[39mTrue\u001b[39;00m\n\u001b[1;32m--> 225\u001b[0m \u001b[39mfor\u001b[39;00m val \u001b[39min\u001b[39;00m OrderedDict\u001b[39m.\u001b[39;49mfromkeys(data):\n\u001b[0;32m    226\u001b[0m     \u001b[39m# OrderedDict just iterates over unique values in data.\u001b[39;00m\n\u001b[0;32m    227\u001b[0m     _api\u001b[39m.\u001b[39mcheck_isinstance((\u001b[39mstr\u001b[39m, \u001b[39mbytes\u001b[39m), value\u001b[39m=\u001b[39mval)\n\u001b[0;32m    228\u001b[0m     \u001b[39mif\u001b[39;00m convertible:\n\u001b[0;32m    229\u001b[0m         \u001b[39m# this will only be called so long as convertible is True.\u001b[39;00m\n",
      "\u001b[1;31mTypeError\u001b[0m: unhashable type: 'numpy.ndarray'"
     ]
    },
    {
     "data": {
      "image/png": "[encoded data removed]",
      "text/plain": [
       "<Figure size 2160x720 with 1 Axes>"
      ]
     },
     "metadata": {
      "needs_background": "light"
     },
     "output_type": "display_data"
    }
   ],
   "source": [
    "nuclear_prod_x = fig_1_data['Country or Area']#Use the same coutnries from the first figure\n",
    "nuclear_prod_y = total_nuclear_production_2019[total_nuclear_production_2019['Country or Area'].isin(fig_1_data['Country or Area'])]\n",
    "fig_2, ax = plt.subplots()\n",
    "nuclear_prod = ax.bar(label='Nuclear Electricity Production'\n",
    "                    ,x = nuclear_prod_x\n",
    "                    ,height = nuclear_prod_y\n",
    "                    )\n",
    "\n",
    "\n"
   ]
  },
  {
   "cell_type": "markdown",
   "metadata": {},
   "source": [
    "Now lets look at these trends over a period of time to see the growth in nuclear electricity production. "
   ]
  }
 ],
 "metadata": {
  "kernelspec": {
   "display_name": "Python 3.9.12 ('base')",
   "language": "python",
   "name": "python3"
  },
  "language_info": {
   "codemirror_mode": {
    "name": "ipython",
    "version": 3
   },
   "file_extension": ".py",
   "mimetype": "text/x-python",
   "name": "python",
   "nbconvert_exporter": "python",
   "pygments_lexer": "ipython3",
   "version": "3.9.12"
  },
  "orig_nbformat": 4,
  "vscode": {
   "interpreter": {
    "hash": "08210294964727e4010dccc398c44f22b92a2e77e2aceea574ad21eae77cd8e8"
   }
  }
 },
 "nbformat": 4,
 "nbformat_minor": 2
}
