{
 "cells": [
  {
   "cell_type": "markdown",
   "metadata": {},
   "source": [
    "For my solo exploration, I want to look at different countries and compare there current consumption (past 5 years) of electric power in thousands of kW per year. I then want to produce the amount of uranium required to power these needs vs coal or gas.    "
   ]
  },
  {
   "cell_type": "markdown",
   "metadata": {},
   "source": [
    "https://world-nuclear.org/information-library/nuclear-fuel-cycle/introduction/nuclear-fuel-cycle-overview.aspx#:~:text=Typically%2C%20some%2044%20million%20kilowatt,one%20tonne%20of%20natural%20uranium.\n",
    "\n",
    "This is a link to the reference for how much electricity comes from one ton of natural uranium. \n",
    "\n",
    "44 million kW-hr = 1 ton U\n",
    "44 million kW-hr = 20,000 tons Coal\n"
   ]
  }
 ],
 "metadata": {
  "kernelspec": {
   "display_name": "Python 3.9.12 ('base')",
   "language": "python",
   "name": "python3"
  },
  "language_info": {
   "name": "python",
   "version": "3.9.12"
  },
  "orig_nbformat": 4,
  "vscode": {
   "interpreter": {
    "hash": "08210294964727e4010dccc398c44f22b92a2e77e2aceea574ad21eae77cd8e8"
   }
  }
 },
 "nbformat": 4,
 "nbformat_minor": 2
}
