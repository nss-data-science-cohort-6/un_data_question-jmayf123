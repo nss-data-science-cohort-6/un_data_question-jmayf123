{
 "cells": [
  {
   "cell_type": "markdown",
   "metadata": {},
   "source": [
    "For my solo exploration, I want to look at different countries over time and compare their total consumpiton of electric power in thousands of kW per year. I also want to show how much of that total consumption is produceed by means of nuclear power.   "
   ]
  },
  {
   "cell_type": "code",
   "execution_count": 1,
   "metadata": {},
   "outputs": [],
   "source": [
    "import pandas as pd\n",
    "import numpy as np \n",
    "import matplotlib.pyplot as plt"
   ]
  },
  {
   "cell_type": "markdown",
   "metadata": {},
   "source": [
    "Read only data rows into the dataframes. "
   ]
  },
  {
   "cell_type": "code",
   "execution_count": 2,
   "metadata": {},
   "outputs": [],
   "source": [
    "total_electricity = pd.read_csv('../data/total_electricity.csv',nrows=100000) #Contains the total electricty consumption of each contry for each year\n",
    "nuclear_electricity = pd.read_csv('../data/nuclear_electricity.csv',nrows=915) #Contains the total nuclear "
   ]
  },
  {
   "cell_type": "markdown",
   "metadata": {},
   "source": [
    "Drop the footnotes column for cleaner look. Check the data types of each of the columns. "
   ]
  },
  {
   "cell_type": "code",
   "execution_count": null,
   "metadata": {},
   "outputs": [],
   "source": [
    "total_electricity = total_electricity.drop(columns=['Quantity Footnotes'])\n",
    "nuclear_electricity = nuclear_electricity.drop(columns=['Quantity Footnotes'])\n",
    "print('Total Electricity:\\n',total_electricity.dtypes,'\\n\\nNuclear Electricity:\\n',nuclear_electricity.dtypes)"
   ]
  },
  {
   "cell_type": "markdown",
   "metadata": {},
   "source": [
    "Lets first look at the total electricity consumption for each country in a recent year with adequate data, 2019. "
   ]
  },
  {
   "cell_type": "code",
   "execution_count": null,
   "metadata": {},
   "outputs": [],
   "source": [
    "total_electricity_consumption = total_electricity[(total_electricity['Commodity - Transaction'] == 'Electricity - Final energy consumption')]\n",
    "total_electricity_consumption_2019 = total_electricity_consumption[total_electricity_consumption['Year'] == 2019]"
   ]
  },
  {
   "cell_type": "code",
   "execution_count": null,
   "metadata": {},
   "outputs": [],
   "source": [
    "print(total_electricity_consumption['Country or Area'].unique())"
   ]
  },
  {
   "cell_type": "code",
   "execution_count": null,
   "metadata": {},
   "outputs": [],
   "source": [
    "pd.set_option('display.float_format', lambda x: '%.2f' % x) #Set floats to 2 decimal points\n",
    "total_electricity_consumption_2019['Quantity'].describe() #Summary stats on the Electric consumption 2019\n"
   ]
  },
  {
   "cell_type": "code",
   "execution_count": null,
   "metadata": {},
   "outputs": [],
   "source": [
    "#This will give the top 20 consumers of elctricity for the year 2019, we just want a glimpse of some of the top countries\n",
    "fig_1_data = total_electricity_consumption_2019.sort_values(by=['Quantity'], ascending=False).iloc[0:20,:]\n",
    "\n",
    "plt.rcParams[\"figure.figsize\"] = [30, 10]\n",
    "plt.rcParams[\"figure.autolayout\"] = True\n",
    "plt.bar(fig_1_data['Country or Area'],fig_1_data['Quantity'])\n",
    "plt.xlabel('Country')\n",
    "plt.ylabel('Millions of kW-hrs')\n",
    "plt.title('Top 20 Countries in Electricity Consumption in 2019')\n",
    "plt.show()\n"
   ]
  }
 ],
 "metadata": {
  "kernelspec": {
   "display_name": "Python 3.9.12 ('base')",
   "language": "python",
   "name": "python3"
  },
  "language_info": {
   "codemirror_mode": {
    "name": "ipython",
    "version": 3
   },
   "file_extension": ".py",
   "mimetype": "text/x-python",
   "name": "python",
   "nbconvert_exporter": "python",
   "pygments_lexer": "ipython3",
   "version": "3.9.12"
  },
  "orig_nbformat": 4,
  "vscode": {
   "interpreter": {
    "hash": "08210294964727e4010dccc398c44f22b92a2e77e2aceea574ad21eae77cd8e8"
   }
  }
 },
 "nbformat": 4,
 "nbformat_minor": 2
}
