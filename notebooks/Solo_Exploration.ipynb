{
 "cells": [
  {
   "cell_type": "markdown",
   "metadata": {},
   "source": [
    "For my solo exploration, I want to look at different countries over time and compare their total consumpiton of electric power in thousands of kW per year. I also want to show how much of that total consumption is produceed by means of nuclear power.   "
   ]
  },
  {
   "cell_type": "code",
   "execution_count": null,
   "metadata": {},
   "outputs": [],
   "source": [
    "import pandas as pd\n",
    "import numpy as np \n",
    "import matplotlib.pyplot as plt\n",
    "import seaborn as sns"
   ]
  },
  {
   "cell_type": "markdown",
   "metadata": {},
   "source": [
    "Read only data rows into the dataframes. "
   ]
  },
  {
   "cell_type": "code",
   "execution_count": null,
   "metadata": {},
   "outputs": [],
   "source": [
    "total_electricity = pd.read_csv('../data/total_electricity.csv',nrows=100000) #Contains the total electricty consumption of each contry for each year\n",
    "nuclear_electricity = pd.read_csv('../data/nuclear_electricity.csv',nrows=915) #Contains the total nuclear "
   ]
  },
  {
   "cell_type": "markdown",
   "metadata": {},
   "source": [
    "Drop the footnotes column for cleaner look. Check the data types of each of the columns. "
   ]
  },
  {
   "cell_type": "code",
   "execution_count": null,
   "metadata": {},
   "outputs": [],
   "source": [
    "total_electricity = total_electricity.drop(columns=['Quantity Footnotes'])\n",
    "\n",
    "total_electricity_consumption = total_electricity[(total_electricity['Commodity - Transaction'] == 'Electricity - Final energy consumption')]\n",
    "nuclear_electricity_production = nuclear_electricity.drop(columns=['Quantity Footnotes'])\n",
    "\n",
    "print('Total Electricity:\\n',total_electricity.dtypes,'\\n\\nNuclear Electricity:\\n',nuclear_electricity.dtypes)"
   ]
  },
  {
   "cell_type": "markdown",
   "metadata": {},
   "source": [
    "Lets first look at the total electricity consumption for each country in a recent year with adequate data, 2019. This way we can estimate countries with the highest engergy consumptions. "
   ]
  },
  {
   "cell_type": "code",
   "execution_count": null,
   "metadata": {},
   "outputs": [],
   "source": [
    "total_electricity_consumption_2019 = total_electricity_consumption[total_electricity_consumption['Year'] == 2019]\n",
    "total_nuclear_production_2019 = nuclear_electricity_production[nuclear_electricity_production['Year'] == 2019]\n"
   ]
  },
  {
   "cell_type": "code",
   "execution_count": null,
   "metadata": {},
   "outputs": [],
   "source": [
    "#Merge those into one datafeame for future use\n",
    "electricity_merged_2019 = total_electricity_consumption_2019.merge(total_nuclear_production_2019, left_on = 'Country or Area', right_on = 'Country or Area')\n",
    "#Change the Column Names and clean up data\n",
    "electricity_merged_2019 = (electricity_merged_2019\n",
    "                            .rename(columns = {'Quantity_x':'Total Electricity Consumption','Quantity_y':'Total Nuclear Electricity Production','Year_y':'Year'})\n",
    "                            .drop(columns = ['Commodity - Transaction_x','Year_x','Commodity - Transaction_y'])\n",
    "                        )\n"
   ]
  },
  {
   "cell_type": "code",
   "execution_count": null,
   "metadata": {},
   "outputs": [],
   "source": [
    "pd.set_option('display.float_format', lambda x: '%.2f' % x) #Set floats to 2 decimal points\n",
    "total_electricity_consumption_2019['Quantity'].describe() #Summary stats on the Electric consumption 2019\n"
   ]
  },
  {
   "cell_type": "code",
   "execution_count": null,
   "metadata": {},
   "outputs": [],
   "source": [
    "#This will give the top 10 consumers of elctricity for the year 2019, we just want a glimpse of some of the top countries\n",
    "fig_1_data = total_electricity_consumption_2019.sort_values(by=['Quantity'], ascending=False).iloc[0:10,:]\n",
    "\n",
    "# plt.rcParams[\"figure.figsize\"] = (60, 30)\n",
    "# plt.rcParams.update({'font.size':40})\n",
    "\n",
    "\n",
    "plt.bar(fig_1_data['Country or Area'],fig_1_data['Quantity'])\n",
    "plt.xticks()\n",
    "plt.xlabel('Country')\n",
    "plt.ylabel('Millions of kW-hrs')\n",
    "plt.title('Top 20 Countries in Electricity Consumption in 2019')\n",
    "plt.show()\n"
   ]
  },
  {
   "cell_type": "code",
   "execution_count": null,
   "metadata": {},
   "outputs": [],
   "source": [
    "print('Top ten countries in enrgy consumption in 2019: \\n', fig_1_data['Country or Area'])"
   ]
  },
  {
   "cell_type": "markdown",
   "metadata": {},
   "source": [
    "For some reason, The US which is a top consumer of electricity, is not showing up on my list. I believe this was an issue with the original UN data categories. They were not included in the UN in the Final consumtion - Energy category for some reason.  "
   ]
  },
  {
   "cell_type": "markdown",
   "metadata": {},
   "source": [
    "Now that we have an idea of which countries consume a majority of the electricity, we will use those in the top 10 that also produce nuclear electricity to compare these values. I imagine that most of these countries still produce a majority of their energy from coal and other sources so these should relatively low values compared to their total consumption. "
   ]
  },
  {
   "cell_type": "code",
   "execution_count": null,
   "metadata": {},
   "outputs": [],
   "source": [
    "figure_2_data = (electricity_merged_2019\n",
    "                    .sort_values(by = 'Total Electricity Consumption', ascending=False)\n",
    "                    .iloc[0:10,:]\n",
    "                )\n",
    "#Grouped bar chart\n",
    "figure_2_data[['Total Electricity Consumption','Total Nuclear Electricity Production']].plot(kind='bar')\n",
    "\n",
    "# plt.rcParams[\"figure.figsize\"] = (60, 30)\n",
    "# plt.rcParams.update({'font.size':40})\n",
    "\n",
    "plt.xticks(ticks = range(0,10), labels = figure_2_data['Country or Area'], rotation = 45)\n",
    "plt.ylabel('Kilowatt-hours, Million')\n",
    "plt.legend()\n",
    "plt.show()\n"
   ]
  },
  {
   "cell_type": "markdown",
   "metadata": {},
   "source": [
    "Now lets look at these trends over a period of time to see the growth in nuclear electricity production. "
   ]
  },
  {
   "cell_type": "code",
   "execution_count": null,
   "metadata": {},
   "outputs": [],
   "source": [
    "#Merge those into one datafeame for future use\n",
    "electricity_merged = total_electricity_consumption.merge(nuclear_electricity_production, left_on = 'Country or Area', right_on = 'Country or Area')\n",
    "#Change the Column Names and clean up data\n",
    "electricity_merged = (electricity_merged\n",
    "                    .rename(columns = {'Quantity_x':'Total Electricity Consumption','Quantity_y':'Total Nuclear Electricity Production','Year_y':'Year'})\n",
    "                    .drop(columns = ['Commodity - Transaction_x','Year_x','Commodity - Transaction_y'])\n",
    "                    )\n"
   ]
  },
  {
   "cell_type": "markdown",
   "metadata": {},
   "source": [
    "This is the library for animated bar charts over time"
   ]
  },
  {
   "cell_type": "code",
   "execution_count": null,
   "metadata": {},
   "outputs": [],
   "source": [
    "import bar_chart_race as bcr"
   ]
  },
  {
   "cell_type": "markdown",
   "metadata": {},
   "source": [
    "We need to make our data wide instead of long, where each country is coulumn and each row is the year. Lets look again at the top consumers of electricity for 2019 just to narrow down the scope of our graph. We will do this with pivot table. "
   ]
  },
  {
   "cell_type": "code",
   "execution_count": null,
   "metadata": {},
   "outputs": [],
   "source": [
    "table = electricity_merged.pivot_table(\n",
    "                                index = 'Year',\n",
    "                                columns = 'Country or Area',\n",
    "                                values = 'Total Nuclear Electricity Production'\n",
    "                                )\n",
    "table = (table\n",
    "        .loc[:,figure_2_data['Country or Area']]\n",
    "        .fillna(0)\n",
    "        .drop(2020)#Not enough data for this year \n",
    "        )"
   ]
  },
  {
   "cell_type": "code",
   "execution_count": null,
   "metadata": {},
   "outputs": [],
   "source": [
    "bcr.bar_chart_race(df = table, title = 'Nuclear Electricity Production over Time (kW-hrs, million)', \n",
    "                figsize = (6, 3.5),\n",
    "                bar_size=.95\n",
    "                )"
   ]
  }
 ],
 "metadata": {
  "kernelspec": {
   "display_name": "Python 3.9.12 ('base')",
   "language": "python",
   "name": "python3"
  },
  "language_info": {
   "codemirror_mode": {
    "name": "ipython",
    "version": 3
   },
   "file_extension": ".py",
   "mimetype": "text/x-python",
   "name": "python",
   "nbconvert_exporter": "python",
   "pygments_lexer": "ipython3",
   "version": "3.9.12"
  },
  "orig_nbformat": 4,
  "vscode": {
   "interpreter": {
    "hash": "08210294964727e4010dccc398c44f22b92a2e77e2aceea574ad21eae77cd8e8"
   }
  }
 },
 "nbformat": 4,
 "nbformat_minor": 2
}
