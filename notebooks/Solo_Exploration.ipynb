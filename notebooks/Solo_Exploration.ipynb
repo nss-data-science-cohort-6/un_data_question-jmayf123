{
 "cells": [
  {
   "cell_type": "markdown",
   "metadata": {},
   "source": [
    "For my solo exploration, I want to look at different countries over time and compare their total consumpiton of electric power in thousands of kW per year. I also want to show how much of that total consumption is produceed by means of nuclear power.   "
   ]
  },
  {
   "cell_type": "code",
   "execution_count": 26,
   "metadata": {},
   "outputs": [],
   "source": [
    "import pandas as pd\n",
    "import numpy as np \n",
    "import plotly.express as px"
   ]
  },
  {
   "cell_type": "markdown",
   "metadata": {},
   "source": [
    "Read only data rows into the dataframes. "
   ]
  },
  {
   "cell_type": "code",
   "execution_count": 22,
   "metadata": {},
   "outputs": [],
   "source": [
    "total_electricity = pd.read_csv('../data/total_electricity.csv',nrows=100000)\n",
    "nuclear_electricity = pd.read_csv('../data/nuclear_electricity.csv',nrows=915)"
   ]
  },
  {
   "cell_type": "markdown",
   "metadata": {},
   "source": [
    "Drop the footnotes column for cleaner look. Check the data types of each of the columns. "
   ]
  },
  {
   "cell_type": "code",
   "execution_count": 24,
   "metadata": {},
   "outputs": [
    {
     "name": "stdout",
     "output_type": "stream",
     "text": [
      "Total Electricity:\n",
      " Country or Area             object\n",
      "Commodity - Transaction     object\n",
      "Year                         int64\n",
      "Unit                        object\n",
      "Quantity                   float64\n",
      "dtype: object \n",
      "\n",
      "Nuclear Electricity:\n",
      " Country or Area             object\n",
      "Commodity - Transaction     object\n",
      "Year                         int64\n",
      "Unit                        object\n",
      "Quantity                   float64\n",
      "dtype: object\n"
     ]
    }
   ],
   "source": [
    "total_electricity = total_electricity.drop(columns=['Quantity Footnotes'])\n",
    "nuclear_electricity = nuclear_electricity.drop(columns=['Quantity Footnotes'])\n",
    "print('Total Electricity:\\n',total_electricity.dtypes,'\\n\\nNuclear Electricity:\\n',nuclear_electricity.dtypes)"
   ]
  },
  {
   "cell_type": "markdown",
   "metadata": {},
   "source": [
    "Lets first look at the total electricity consumption for each country in the latest year of data, 2020. "
   ]
  },
  {
   "cell_type": "code",
   "execution_count": 36,
   "metadata": {},
   "outputs": [],
   "source": [
    "total_electricity_consumption = total_electricity[(total_electricity['Commodity - Transaction'] == 'Electricity - Final energy consumption')]"
   ]
  },
  {
   "cell_type": "code",
   "execution_count": 49,
   "metadata": {},
   "outputs": [],
   "source": [
    "del test"
   ]
  }
 ],
 "metadata": {
  "kernelspec": {
   "display_name": "Python 3.9.12 ('base')",
   "language": "python",
   "name": "python3"
  },
  "language_info": {
   "codemirror_mode": {
    "name": "ipython",
    "version": 3
   },
   "file_extension": ".py",
   "mimetype": "text/x-python",
   "name": "python",
   "nbconvert_exporter": "python",
   "pygments_lexer": "ipython3",
   "version": "3.9.12"
  },
  "orig_nbformat": 4,
  "vscode": {
   "interpreter": {
    "hash": "08210294964727e4010dccc398c44f22b92a2e77e2aceea574ad21eae77cd8e8"
   }
  }
 },
 "nbformat": 4,
 "nbformat_minor": 2
}
