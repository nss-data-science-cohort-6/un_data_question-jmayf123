{
 "cells": [
  {
   "cell_type": "markdown",
   "id": "9074494f",
   "metadata": {},
   "source": [
    "Question 3:"
   ]
  },
  {
   "cell_type": "code",
   "execution_count": null,
   "id": "1fd84bdc",
   "metadata": {},
   "outputs": [],
   "source": [
    "import pandas as pd\n",
    "import numpy as np \n",
    "import matplotlib.pyplot as plt\n",
    "import seaborn as sns"
   ]
  },
  {
   "cell_type": "markdown",
   "id": "d528860d",
   "metadata": {},
   "source": [
    "Question 4:"
   ]
  },
  {
   "cell_type": "code",
   "execution_count": null,
   "id": "c3588240",
   "metadata": {},
   "outputs": [],
   "source": [
    "#Change to relative path with ../ \n",
    "gdp_df = pd.read_csv('../data/gdp_per_capita.csv', nrows=6868)"
   ]
  },
  {
   "cell_type": "code",
   "execution_count": null,
   "id": "edc8e20c",
   "metadata": {},
   "outputs": [],
   "source": [
    "gdp_df.head()"
   ]
  },
  {
   "cell_type": "code",
   "execution_count": null,
   "id": "236810e8",
   "metadata": {},
   "outputs": [],
   "source": [
    "gdp_df.tail()"
   ]
  },
  {
   "cell_type": "markdown",
   "id": "ce29f373",
   "metadata": {},
   "source": [
    "Question 5:"
   ]
  },
  {
   "cell_type": "code",
   "execution_count": null,
   "id": "922455df",
   "metadata": {},
   "outputs": [],
   "source": [
    "gdp_df = (gdp_df\n",
    "            .rename(columns={'Country or Area':'Country','Value':'GDP_Per_Capita'})\n",
    "            .drop(columns=['Value Footnotes'])\n",
    "        )   "
   ]
  },
  {
   "cell_type": "markdown",
   "id": "b1fdb1c0",
   "metadata": {},
   "source": [
    "Question 6:"
   ]
  },
  {
   "cell_type": "code",
   "execution_count": null,
   "id": "715fc496",
   "metadata": {},
   "outputs": [],
   "source": [
    "print(gdp_df)\n",
    "gdp_df.dtypes\n"
   ]
  },
  {
   "cell_type": "markdown",
   "id": "f4f17f5f",
   "metadata": {},
   "source": [
    " gdp_df - ROWS = 6868 , COLS = 3 \n",
    "\n",
    "Column Data Types : Country = object aka. str , Year = int64 , GDP_Per_Capita = float64"
   ]
  },
  {
   "cell_type": "markdown",
   "id": "8702d4d4",
   "metadata": {},
   "source": [
    "Question 7: "
   ]
  },
  {
   "cell_type": "code",
   "execution_count": null,
   "id": "f22e9e1e",
   "metadata": {},
   "outputs": [],
   "source": [
    "year_counts = gdp_df.value_counts(subset='Year')\n",
    "x = year_counts.index\n",
    "y = year_counts\n",
    "plt.scatter(x,y)\n",
    "plt.title('Observations per Year')\n",
    "plt.xlabel('Year')\n",
    "plt.ylabel('# of Observations')\n",
    "\n",
    "print('Years range from ', x.min(), 'to', x.max())"
   ]
  },
  {
   "cell_type": "markdown",
   "id": "4304c76d",
   "metadata": {},
   "source": [
    "There is an increase of observations taken per year from 1990 to 2019. There is also a slight decrease in observations in the last year, 2019.  "
   ]
  },
  {
   "cell_type": "markdown",
   "id": "2662e563",
   "metadata": {},
   "source": [
    "Question 8:"
   ]
  },
  {
   "cell_type": "code",
   "execution_count": null,
   "id": "fa8e4b46",
   "metadata": {},
   "outputs": [],
   "source": [
    "num_unique_countries = gdp_df.loc[:,'Country'].nunique()\n",
    "print('There are',num_unique_countries, 'countries represented in the dataset.')\n",
    "\n",
    "country_counts = gdp_df.loc[:,'Country'].value_counts()\n",
    "\n",
    "#Countries that have less than 30 years of data \n",
    "underepresented = country_counts[country_counts < 30]\n",
    "x_1 = underepresented.index\n",
    "y_1 = underepresented\n",
    "\n",
    "plt.rcParams[\"figure.figsize\"] = [30, 5]\n",
    "plt.rcParams[\"figure.autolayout\"] = True\n",
    "\n",
    "plt.bar(x_1, y_1, width=0.3)\n",
    "plt.xticks(rotation=45)\n",
    "plt.title('# of Observations vs. Country')\n",
    "plt.xlabel('Country Name')\n",
    "plt.ylabel('# of Years of Data Collection')\n",
    "\n",
    "print(\"Countries with less than 30 years of data collected:\\n\",list(x_1))"
   ]
  },
  {
   "cell_type": "markdown",
   "id": "69409c93",
   "metadata": {},
   "source": [
    "I think these countries are in the category of developing countries, which means they have lower economic performance than fully developed countries. This could be a reason for their lack of GDP data collection. "
   ]
  },
  {
   "cell_type": "markdown",
   "id": "6e3e88ca",
   "metadata": {},
   "source": [
    "Question 9:"
   ]
  },
  {
   "cell_type": "code",
   "execution_count": null,
   "id": "16992939",
   "metadata": {},
   "outputs": [],
   "source": [
    "gdp_2014 = gdp_df[gdp_df['Year']==2014]"
   ]
  },
  {
   "cell_type": "markdown",
   "id": "fba400fd",
   "metadata": {},
   "source": [
    "Question 10:"
   ]
  },
  {
   "cell_type": "code",
   "execution_count": null,
   "id": "34f51392",
   "metadata": {},
   "outputs": [],
   "source": [
    "stats = gdp_2014['GDP_Per_Capita'].describe()\n",
    "print(stats)"
   ]
  },
  {
   "cell_type": "markdown",
   "id": "94120b21",
   "metadata": {},
   "source": [
    "Question 11:"
   ]
  },
  {
   "cell_type": "code",
   "execution_count": null,
   "id": "10680b5e",
   "metadata": {},
   "outputs": [],
   "source": [
    "plt.hist(gdp_2014['GDP_Per_Capita'], bins=30)\n",
    "plt.title('GDP Per Captia Values for 2014')\n",
    "plt.xlabel('GDP Per Capita in $')\n",
    "plt.ylabel('Frequency')\n",
    "plt.show()"
   ]
  },
  {
   "cell_type": "markdown",
   "id": "73ecb26f",
   "metadata": {},
   "source": [
    "The shape of this ditribution is right skewed. "
   ]
  },
  {
   "cell_type": "markdown",
   "id": "565781db",
   "metadata": {},
   "source": [
    "Question 12:"
   ]
  },
  {
   "cell_type": "code",
   "execution_count": null,
   "id": "5c7f484d",
   "metadata": {},
   "outputs": [],
   "source": [
    "#Top 5 countries \n",
    "top_5_values = (gdp_2014['GDP_Per_Capita'].sort_values(ascending=False)).iloc[:5]\n",
    "top_5_countries_2014 = gdp_df.iloc[top_5_values.index]\n",
    "print('Top 5 Countries 2014:',top_5_countries_2014)\n",
    "\n",
    "#Bottom 5 countries\n",
    "bottom_5_values = (gdp_2014['GDP_Per_Capita'].sort_values(ascending=True)).iloc[:5]\n",
    "bottom_5_countries_2014 = gdp_df.iloc[bottom_5_values.index]\n",
    "print('Bottom 5 Countries 2014:',bottom_5_countries_2014)"
   ]
  },
  {
   "cell_type": "markdown",
   "id": "4be2f553",
   "metadata": {},
   "source": [
    "Question 13:"
   ]
  },
  {
   "cell_type": "code",
   "execution_count": null,
   "id": "5155b65c",
   "metadata": {},
   "outputs": [],
   "source": [
    "gdp_pivoted = ((gdp_df.pivot(index='Country',columns='Year',values='GDP_Per_Capita'))[[1990, 2017]]).dropna()"
   ]
  },
  {
   "cell_type": "markdown",
   "id": "34d5bb94",
   "metadata": {},
   "source": [
    "Question 14:"
   ]
  },
  {
   "cell_type": "code",
   "execution_count": null,
   "id": "857c2c15",
   "metadata": {},
   "outputs": [],
   "source": [
    "gdp_pivoted['Percent Change'] = 100*(gdp_pivoted[2017] - gdp_pivoted[1990])/(gdp_pivoted[1990])"
   ]
  },
  {
   "cell_type": "markdown",
   "id": "1e5735ff",
   "metadata": {},
   "source": [
    "Question 15:"
   ]
  },
  {
   "cell_type": "code",
   "execution_count": null,
   "id": "e477281b",
   "metadata": {},
   "outputs": [],
   "source": [
    "#Negative % change in gdp \n",
    "negative_per_change_gdp = gdp_pivoted[gdp_pivoted['Percent Change'] < 0]\n",
    "print('There were', len(negative_per_change_gdp),'countries that experienced a negative percent change in GDP from 1990 to 2017')"
   ]
  },
  {
   "cell_type": "markdown",
   "id": "3d760699",
   "metadata": {},
   "source": [
    "Question 16:"
   ]
  },
  {
   "cell_type": "code",
   "execution_count": null,
   "id": "e79719d1",
   "metadata": {},
   "outputs": [],
   "source": [
    "highest_change_in_GDP = gdp_pivoted['Percent Change'].idxmax()\n",
    "print('The country with the highest percent change in GDP was:',highest_change_in_GDP)\n",
    "\n",
    "# Line plot with GDP percapita for years 1990-2017\n",
    "eq_gin_gdp_df = gdp_df[gdp_df['Country'] == highest_change_in_GDP]\n",
    "x_3 = eq_gin_gdp_df['Year']\n",
    "y_3 = eq_gin_gdp_df['GDP_Per_Capita']\n",
    "plt.plot(x_3,y_3)\n",
    "plt.title('GDP per Capita vs. Year for ' + highest_change_in_GDP)  \n",
    "plt.xlabel('Year')\n",
    "plt.ylabel('$')\n",
    "plt.rcParams[\"figure.figsize\"] = [10, 5]\n",
    "plt.ylim(0,50000)\n",
    "plt.show()"
   ]
  },
  {
   "cell_type": "code",
   "execution_count": null,
   "id": "877d75eb",
   "metadata": {},
   "outputs": [],
   "source": [
    "#Order the original dataframe, and knock off the top position and then return the index \n",
    "second_highest_change_in_GDP = gdp_pivoted['Percent Change'].sort_values(ascending=False)\n",
    "second_highest_change_in_GDP = second_highest_change_in_GDP.iloc[1:].idxmax()\n",
    "print('The country with the second highest percent change in GDP was:',second_highest_change_in_GDP)\n",
    "\n",
    "# Line plot with GDP percapita for years 1990-2017\n",
    "china_gdp_df = gdp_df[gdp_df['Country'] == second_highest_change_in_GDP]\n",
    "x_4 = china_gdp_df['Year']\n",
    "y_4 = china_gdp_df['GDP_Per_Capita']\n",
    "plt.plot(x_4,y_4)\n",
    "plt.title('GDP per Capita vs. Year for ' + second_highest_change_in_GDP)  \n",
    "plt.xlabel('Year')\n",
    "plt.ylabel('$')\n",
    "plt.rcParams[\"figure.figsize\"] = [10, 5]\n",
    "plt.ylim(0,50000)\n",
    "plt.show()\n"
   ]
  },
  {
   "cell_type": "markdown",
   "id": "8650405a",
   "metadata": {},
   "source": [
    "The trends for these countries vary drastically. Equitorial Guinea seemed to have a dramatic up and down fluctuation of their GDP per capita from 1990 to 2017, while China kept a shallow but steady increase over time. "
   ]
  },
  {
   "cell_type": "markdown",
   "id": "0c3d8a1a",
   "metadata": {},
   "source": [
    "Question 17: "
   ]
  },
  {
   "cell_type": "code",
   "execution_count": null,
   "id": "82544233",
   "metadata": {},
   "outputs": [],
   "source": [
    "continents = pd.read_csv('../data/continents.csv')"
   ]
  },
  {
   "cell_type": "markdown",
   "id": "742e41f7",
   "metadata": {},
   "source": [
    "Question 18:"
   ]
  },
  {
   "cell_type": "code",
   "execution_count": null,
   "id": "0fb93458",
   "metadata": {},
   "outputs": [],
   "source": [
    "gdp_df = gdp_df.merge(continents)"
   ]
  },
  {
   "cell_type": "markdown",
   "id": "fd51be75",
   "metadata": {},
   "source": [
    "Question 19:"
   ]
  },
  {
   "cell_type": "code",
   "execution_count": null,
   "id": "b89e6677",
   "metadata": {},
   "outputs": [],
   "source": [
    "print('Ther are a total of', continents['Continent'].nunique(), 'continents in the dataframe.') #Print the number of unique continents in the df\n",
    "\n",
    "num_countries_per_con = list([sum(continents['Continent'] == 'Asia')\n",
    "                            , sum(continents['Continent'] == 'Africa')\n",
    "                            , sum(continents['Continent'] == 'Europe')\n",
    "                            , sum(continents['Continent'] == 'North America')\n",
    "                            , sum(continents['Continent'] == 'South America')\n",
    "                            , sum(continents['Continent'] == 'Oceania')]\n",
    "                            )\n",
    "\n",
    "plt.bar(continents['Continent'].unique(),num_countries_per_con)\n",
    "plt.title('Number of Countries per Continent')\n"
   ]
  },
  {
   "cell_type": "markdown",
   "id": "831f3900",
   "metadata": {},
   "source": [
    "Question 20:"
   ]
  },
  {
   "cell_type": "code",
   "execution_count": null,
   "id": "8ded05d0",
   "metadata": {},
   "outputs": [],
   "source": [
    "continents_gdp_2014 = gdp_df[gdp_df['Year'] == 2014]\n",
    "\n",
    "sns.boxplot(data=continents_gdp_2014, x='GDP_Per_Capita', y='Continent' )\n",
    "plt.title('Spread of GDP per Capita for each Continent')\n",
    "plt.show()"
   ]
  },
  {
   "cell_type": "markdown",
   "id": "032e5f27",
   "metadata": {},
   "source": [
    "Question 21 & 22:"
   ]
  },
  {
   "cell_type": "code",
   "execution_count": null,
   "id": "f4092b77",
   "metadata": {},
   "outputs": [],
   "source": [
    "life_expectancy = pd.read_csv('../data/life_expectancy.csv')\n",
    "life_expectancy = (life_expectancy\n",
    "                    .drop(columns=['Country Code', 'Indicator Name', 'Indicator Code'])\n",
    "                    .melt(id_vars=['Country Name'])\n",
    "                    .rename(columns={'Country Name':'Country','variable':'Year','value':'Life_Expectancy'})\n",
    "                )"
   ]
  },
  {
   "cell_type": "markdown",
   "id": "cd230c90",
   "metadata": {},
   "source": [
    "Question 23:"
   ]
  },
  {
   "cell_type": "code",
   "execution_count": null,
   "id": "93dbc672",
   "metadata": {},
   "outputs": [],
   "source": [
    "#First Country with lE > 80 yrs old, find the earliest year to hit 80\n",
    "life_expectancy_over_80 = (\n",
    "                            life_expectancy\n",
    "                            [life_expectancy['Life_Expectancy'] > 80]\n",
    "                            .sort_values(['Year'])\n",
    "                            )\n",
    "print('The first country with a life expectancy to exceed 80 was', life_expectancy_over_80['Country'].iloc[0],'.')"
   ]
  },
  {
   "cell_type": "markdown",
   "id": "e0fbaf97",
   "metadata": {},
   "source": [
    "Question 24:"
   ]
  },
  {
   "cell_type": "code",
   "execution_count": null,
   "id": "928fbdcc",
   "metadata": {},
   "outputs": [],
   "source": [
    "#Making anew variable because I dont have one called gdp_per_capita up to this point\n",
    "gdp_per_capita = pd.read_csv('../data/gdp_per_capita.csv', nrows=6868)\n",
    "gdp_per_capita = (gdp_per_capita\n",
    "                    .drop(columns=['Value Footnotes'])\n",
    "                    .rename(columns={'Country or Area':'Country','Value':'GDP_Per_Capita'})\n",
    "                )\n",
    "#Merge the two DF's, must convert year on life expectany to int64 from str\n",
    "#First Delete Rows with nan\n",
    "life_expectancy = life_expectancy.dropna()\n",
    "life_expectancy['Year'] = pd.to_numeric(life_expectancy['Year'])\n",
    "gdp_le = gdp_per_capita.merge(life_expectancy)"
   ]
  },
  {
   "cell_type": "code",
   "execution_count": null,
   "id": "50113eae",
   "metadata": {},
   "outputs": [],
   "source": [
    "gdp_le.head()"
   ]
  },
  {
   "cell_type": "code",
   "execution_count": null,
   "id": "8f0ac986",
   "metadata": {},
   "outputs": [],
   "source": [
    "gdp_le.tail()"
   ]
  },
  {
   "cell_type": "markdown",
   "id": "5eecdad5",
   "metadata": {},
   "source": [
    "Question 25:"
   ]
  },
  {
   "cell_type": "code",
   "execution_count": null,
   "id": "88c8d387",
   "metadata": {},
   "outputs": [],
   "source": [
    "gdp_le_2019 = gdp_le[(gdp_le['Year'] == 2019)]\n",
    "\n",
    "print(len(gdp_le_2019[gdp_le_2019['Life_Expectancy'] >= 80]), 'countries had a life expectancy of at least 80 years old in 2019.')            "
   ]
  },
  {
   "cell_type": "markdown",
   "id": "ef69bf24",
   "metadata": {},
   "source": [
    "Question 26:"
   ]
  },
  {
   "cell_type": "code",
   "execution_count": null,
   "id": "2cb49ee4",
   "metadata": {},
   "outputs": [],
   "source": [
    "top_3_gdp_le_2019 = (gdp_le_2019\n",
    "                    .sort_values(by=['GDP_Per_Capita'], ascending=False)\n",
    "                    .iloc[:3]\n",
    "                    )\n",
    "top_3_countries = list(top_3_gdp_le_2019['Country'])"
   ]
  },
  {
   "cell_type": "code",
   "execution_count": null,
   "metadata": {},
   "outputs": [],
   "source": [
    "top_3_countries_df = gdp_le[gdp_le['Country'].isin(top_3_countries)] \n",
    "\n",
    "graph = sns.FacetGrid(top_3_countries_df, col='Country')\n",
    "graph.map(plt.plot,'Year','Life_Expectancy')\n",
    "plt.show()"
   ]
  },
  {
   "cell_type": "markdown",
   "id": "95b5574d",
   "metadata": {},
   "source": [
    "Question 27:"
   ]
  },
  {
   "cell_type": "code",
   "execution_count": null,
   "id": "3f7bb164",
   "metadata": {},
   "outputs": [],
   "source": [
    "plt.scatter(gdp_le_2019['GDP_Per_Capita'],gdp_le_2019['Life_Expectancy'])\n",
    "\n",
    "plt.title('Life Expectancy vs. GDP Per Capita 2019')\n",
    "plt.xlabel('GDP Per Capita $')\n",
    "plt.ylabel('Life Expantancy Years')\n",
    "plt.show()"
   ]
  },
  {
   "cell_type": "markdown",
   "id": "0bce8261",
   "metadata": {},
   "source": [
    "I notice a positive correlation between the life expectancy and gdp_per capita of a country. "
   ]
  },
  {
   "cell_type": "markdown",
   "id": "5d850dc0",
   "metadata": {},
   "source": [
    "Question 28:"
   ]
  },
  {
   "cell_type": "code",
   "execution_count": null,
   "id": "4efdda7a",
   "metadata": {},
   "outputs": [],
   "source": [
    "correlation = gdp_le_2019['Life_Expectancy'].corr(gdp_le_2019['GDP_Per_Capita'])\n",
    "print(correlation)"
   ]
  },
  {
   "cell_type": "markdown",
   "id": "99efb672",
   "metadata": {},
   "source": [
    "This value means that there is a moderately stron positive correlation bt. the two variables. "
   ]
  },
  {
   "cell_type": "markdown",
   "id": "df10111f",
   "metadata": {},
   "source": [
    "Question 29:"
   ]
  },
  {
   "cell_type": "code",
   "execution_count": null,
   "id": "cd74f683",
   "metadata": {},
   "outputs": [],
   "source": [
    "gdp_le_2019.insert(3, 'Log_GDP_Per_Capita', np.log(gdp_le_2019['GDP_Per_Capita']))\n",
    "print(gdp_le_2019.head())"
   ]
  },
  {
   "cell_type": "code",
   "execution_count": 36,
   "id": "6a8cc65a",
   "metadata": {},
   "outputs": [],
   "source": [
    "correlation_2 = gdp_le_2019['Life_Expectancy'].corr(gdp_le_2019['Log_GDP_Per_Capita'])\n",
    "print(correlation_2)"
   ]
  },
  {
   "cell_type": "markdown",
   "id": "6310729d",
   "metadata": {},
   "source": [
    "This correlation is slightly higher than the base GDP percapita values."
   ]
  },
  {
   "cell_type": "code",
   "execution_count": 37,
   "id": "a3cc10b1",
   "metadata": {},
   "outputs": [
    {
     "data": {
      "image/png": "[encoded data removed]",
      "text/plain": [
       "<Figure size 720x360 with 1 Axes>"
      ]
     },
     "metadata": {
      "needs_background": "light"
     },
     "output_type": "display_data"
    }
   ],
   "source": [
    "plt.scatter(gdp_le_2019['Log_GDP_Per_Capita'],gdp_le_2019['Life_Expectancy'])\n",
    "\n",
    "plt.title('Life Expectancy vs. Log. GDP Per Capita 2019')\n",
    "plt.xlabel('Log of GDP Per Capita $')\n",
    "plt.ylabel('Life Expantancy Years')\n",
    "plt.show()"
   ]
  }
 ],
 "metadata": {
  "kernelspec": {
   "display_name": "Python 3.9.12 ('base')",
   "language": "python",
   "name": "python3"
  },
  "language_info": {
   "codemirror_mode": {
    "name": "ipython",
    "version": 3
   },
   "file_extension": ".py",
   "mimetype": "text/x-python",
   "name": "python",
   "nbconvert_exporter": "python",
   "pygments_lexer": "ipython3",
   "version": "3.9.12"
  },
  "vscode": {
   "interpreter": {
    "hash": "08210294964727e4010dccc398c44f22b92a2e77e2aceea574ad21eae77cd8e8"
   }
  }
 },
 "nbformat": 4,
 "nbformat_minor": 5
}
