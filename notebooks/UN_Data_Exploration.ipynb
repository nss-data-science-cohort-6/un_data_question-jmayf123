{
 "cells": [
  {
   "cell_type": "code",
   "execution_count": 4,
   "id": "1fd84bdc",
   "metadata": {},
   "outputs": [],
   "source": [
    "import pandas as pd\n",
    "import numpy as np \n",
    "import matplotlib.pyplot as plt\n",
    "import seaborn as sns"
   ]
  },
  {
   "cell_type": "code",
   "execution_count": 11,
   "id": "c3588240",
   "metadata": {},
   "outputs": [],
   "source": [
    "gdp_df = pd.read_csv(r'C:\\Users\\jacks\\Documents\\NSS\\un_data_question-jmayf123\\data\\gdp_per_capita.csv')"
   ]
  },
  {
   "cell_type": "code",
   "execution_count": 12,
   "id": "edc8e20c",
   "metadata": {},
   "outputs": [
    {
     "data": {
      "text/plain": [
       "<bound method NDFrame.head of      Country or Area                                      Year        Value  \\\n",
       "0        Afghanistan                                      2019  2065.036398   \n",
       "1        Afghanistan                                      2018  2033.779002   \n",
       "2        Afghanistan                                      2017  2058.383832   \n",
       "3        Afghanistan                                      2016  2057.062164   \n",
       "4        Afghanistan                                      2015  2068.265904   \n",
       "...              ...                                       ...          ...   \n",
       "6865        Zimbabwe                                      1992  3054.889178   \n",
       "6866        Zimbabwe                                      1991  3426.598094   \n",
       "6867        Zimbabwe                                      1990  3324.348171   \n",
       "6868   footnoteSeqID                                  Footnote          NaN   \n",
       "6869               2  Excludes South Sudan after July 9, 2011.          NaN   \n",
       "\n",
       "      Value Footnotes  \n",
       "0                 NaN  \n",
       "1                 NaN  \n",
       "2                 NaN  \n",
       "3                 NaN  \n",
       "4                 NaN  \n",
       "...               ...  \n",
       "6865              NaN  \n",
       "6866              NaN  \n",
       "6867              NaN  \n",
       "6868              NaN  \n",
       "6869              NaN  \n",
       "\n",
       "[6870 rows x 4 columns]>"
      ]
     },
     "execution_count": 12,
     "metadata": {},
     "output_type": "execute_result"
    }
   ],
   "source": [
    "gdp_df.head"
   ]
  }
 ],
 "metadata": {
  "kernelspec": {
   "display_name": "Python 3.9.12 ('base')",
   "language": "python",
   "name": "python3"
  },
  "language_info": {
   "codemirror_mode": {
    "name": "ipython",
    "version": 3
   },
   "file_extension": ".py",
   "mimetype": "text/x-python",
   "name": "python",
   "nbconvert_exporter": "python",
   "pygments_lexer": "ipython3",
   "version": "3.9.12"
  },
  "vscode": {
   "interpreter": {
    "hash": "08210294964727e4010dccc398c44f22b92a2e77e2aceea574ad21eae77cd8e8"
   }
  }
 },
 "nbformat": 4,
 "nbformat_minor": 5
}
