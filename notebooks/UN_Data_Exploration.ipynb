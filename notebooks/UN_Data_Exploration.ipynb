{
 "cells": [
  {
   "cell_type": "markdown",
   "id": "9074494f",
   "metadata": {},
   "source": [
    "Question 3:"
   ]
  },
  {
   "cell_type": "code",
   "execution_count": 1,
   "id": "1fd84bdc",
   "metadata": {},
   "outputs": [],
   "source": [
    "import pandas as pd\n",
    "import numpy as np \n",
    "import matplotlib.pyplot as plt\n",
    "import seaborn as sns"
   ]
  },
  {
   "cell_type": "markdown",
   "id": "d528860d",
   "metadata": {},
   "source": [
    "Question 4:"
   ]
  },
  {
   "cell_type": "code",
   "execution_count": 2,
   "id": "c3588240",
   "metadata": {},
   "outputs": [],
   "source": [
    "#Change to relative path with ../ \n",
    "gdp_df = pd.read_csv('../data/gdp_per_capita.csv', nrows=6868)"
   ]
  },
  {
   "cell_type": "code",
   "execution_count": 3,
   "id": "edc8e20c",
   "metadata": {},
   "outputs": [
    {
     "data": {
      "text/html": [
       "<div>\n",
       "<style scoped>\n",
       "    .dataframe tbody tr th:only-of-type {\n",
       "        vertical-align: middle;\n",
       "    }\n",
       "\n",
       "    .dataframe tbody tr th {\n",
       "        vertical-align: top;\n",
       "    }\n",
       "\n",
       "    .dataframe thead th {\n",
       "        text-align: right;\n",
       "    }\n",
       "</style>\n",
       "<table border=\"1\" class=\"dataframe\">\n",
       "  <thead>\n",
       "    <tr style=\"text-align: right;\">\n",
       "      <th></th>\n",
       "      <th>Country or Area</th>\n",
       "      <th>Year</th>\n",
       "      <th>Value</th>\n",
       "      <th>Value Footnotes</th>\n",
       "    </tr>\n",
       "  </thead>\n",
       "  <tbody>\n",
       "    <tr>\n",
       "      <th>0</th>\n",
       "      <td>Afghanistan</td>\n",
       "      <td>2019</td>\n",
       "      <td>2065.036398</td>\n",
       "      <td>NaN</td>\n",
       "    </tr>\n",
       "    <tr>\n",
       "      <th>1</th>\n",
       "      <td>Afghanistan</td>\n",
       "      <td>2018</td>\n",
       "      <td>2033.779002</td>\n",
       "      <td>NaN</td>\n",
       "    </tr>\n",
       "    <tr>\n",
       "      <th>2</th>\n",
       "      <td>Afghanistan</td>\n",
       "      <td>2017</td>\n",
       "      <td>2058.383832</td>\n",
       "      <td>NaN</td>\n",
       "    </tr>\n",
       "    <tr>\n",
       "      <th>3</th>\n",
       "      <td>Afghanistan</td>\n",
       "      <td>2016</td>\n",
       "      <td>2057.062164</td>\n",
       "      <td>NaN</td>\n",
       "    </tr>\n",
       "    <tr>\n",
       "      <th>4</th>\n",
       "      <td>Afghanistan</td>\n",
       "      <td>2015</td>\n",
       "      <td>2068.265904</td>\n",
       "      <td>NaN</td>\n",
       "    </tr>\n",
       "  </tbody>\n",
       "</table>\n",
       "</div>"
      ],
      "text/plain": [
       "  Country or Area  Year        Value  Value Footnotes\n",
       "0     Afghanistan  2019  2065.036398              NaN\n",
       "1     Afghanistan  2018  2033.779002              NaN\n",
       "2     Afghanistan  2017  2058.383832              NaN\n",
       "3     Afghanistan  2016  2057.062164              NaN\n",
       "4     Afghanistan  2015  2068.265904              NaN"
      ]
     },
     "execution_count": 3,
     "metadata": {},
     "output_type": "execute_result"
    }
   ],
   "source": [
    "gdp_df.head()"
   ]
  },
  {
   "cell_type": "code",
   "execution_count": 4,
   "id": "236810e8",
   "metadata": {},
   "outputs": [
    {
     "data": {
      "text/html": [
       "<div>\n",
       "<style scoped>\n",
       "    .dataframe tbody tr th:only-of-type {\n",
       "        vertical-align: middle;\n",
       "    }\n",
       "\n",
       "    .dataframe tbody tr th {\n",
       "        vertical-align: top;\n",
       "    }\n",
       "\n",
       "    .dataframe thead th {\n",
       "        text-align: right;\n",
       "    }\n",
       "</style>\n",
       "<table border=\"1\" class=\"dataframe\">\n",
       "  <thead>\n",
       "    <tr style=\"text-align: right;\">\n",
       "      <th></th>\n",
       "      <th>Country or Area</th>\n",
       "      <th>Year</th>\n",
       "      <th>Value</th>\n",
       "      <th>Value Footnotes</th>\n",
       "    </tr>\n",
       "  </thead>\n",
       "  <tbody>\n",
       "    <tr>\n",
       "      <th>6863</th>\n",
       "      <td>Zimbabwe</td>\n",
       "      <td>1994</td>\n",
       "      <td>3263.934978</td>\n",
       "      <td>NaN</td>\n",
       "    </tr>\n",
       "    <tr>\n",
       "      <th>6864</th>\n",
       "      <td>Zimbabwe</td>\n",
       "      <td>1993</td>\n",
       "      <td>3033.504852</td>\n",
       "      <td>NaN</td>\n",
       "    </tr>\n",
       "    <tr>\n",
       "      <th>6865</th>\n",
       "      <td>Zimbabwe</td>\n",
       "      <td>1992</td>\n",
       "      <td>3054.889178</td>\n",
       "      <td>NaN</td>\n",
       "    </tr>\n",
       "    <tr>\n",
       "      <th>6866</th>\n",
       "      <td>Zimbabwe</td>\n",
       "      <td>1991</td>\n",
       "      <td>3426.598094</td>\n",
       "      <td>NaN</td>\n",
       "    </tr>\n",
       "    <tr>\n",
       "      <th>6867</th>\n",
       "      <td>Zimbabwe</td>\n",
       "      <td>1990</td>\n",
       "      <td>3324.348171</td>\n",
       "      <td>NaN</td>\n",
       "    </tr>\n",
       "  </tbody>\n",
       "</table>\n",
       "</div>"
      ],
      "text/plain": [
       "     Country or Area  Year        Value  Value Footnotes\n",
       "6863        Zimbabwe  1994  3263.934978              NaN\n",
       "6864        Zimbabwe  1993  3033.504852              NaN\n",
       "6865        Zimbabwe  1992  3054.889178              NaN\n",
       "6866        Zimbabwe  1991  3426.598094              NaN\n",
       "6867        Zimbabwe  1990  3324.348171              NaN"
      ]
     },
     "execution_count": 4,
     "metadata": {},
     "output_type": "execute_result"
    }
   ],
   "source": [
    "gdp_df.tail()"
   ]
  },
  {
   "cell_type": "markdown",
   "id": "ce29f373",
   "metadata": {},
   "source": [
    "Question 5:"
   ]
  },
  {
   "cell_type": "code",
   "execution_count": 5,
   "id": "922455df",
   "metadata": {},
   "outputs": [],
   "source": [
    "gdp_df = (gdp_df\n",
    "            .rename(columns={'Country or Area':'Country','Value':'GDP_Per_Capita'})\n",
    "            .drop(columns=['Value Footnotes'])\n",
    "        )   "
   ]
  },
  {
   "cell_type": "markdown",
   "id": "b1fdb1c0",
   "metadata": {},
   "source": [
    "Question 6:"
   ]
  },
  {
   "cell_type": "code",
   "execution_count": 6,
   "id": "715fc496",
   "metadata": {},
   "outputs": [
    {
     "name": "stdout",
     "output_type": "stream",
     "text": [
      "          Country  Year  GDP_Per_Capita\n",
      "0     Afghanistan  2019     2065.036398\n",
      "1     Afghanistan  2018     2033.779002\n",
      "2     Afghanistan  2017     2058.383832\n",
      "3     Afghanistan  2016     2057.062164\n",
      "4     Afghanistan  2015     2068.265904\n",
      "...           ...   ...             ...\n",
      "6863     Zimbabwe  1994     3263.934978\n",
      "6864     Zimbabwe  1993     3033.504852\n",
      "6865     Zimbabwe  1992     3054.889178\n",
      "6866     Zimbabwe  1991     3426.598094\n",
      "6867     Zimbabwe  1990     3324.348171\n",
      "\n",
      "[6868 rows x 3 columns]\n"
     ]
    },
    {
     "data": {
      "text/plain": [
       "Country            object\n",
       "Year                int64\n",
       "GDP_Per_Capita    float64\n",
       "dtype: object"
      ]
     },
     "execution_count": 6,
     "metadata": {},
     "output_type": "execute_result"
    }
   ],
   "source": [
    "print(gdp_df)\n",
    "gdp_df.dtypes\n"
   ]
  },
  {
   "cell_type": "markdown",
   "id": "f4f17f5f",
   "metadata": {},
   "source": [
    " gdp_df - ROWS = 6868 , COLS = 3 \n",
    "\n",
    "Column Data Types : Country = object aka. str , Year = int64 , GDP_Per_Capita = float64"
   ]
  },
  {
   "cell_type": "markdown",
   "id": "8702d4d4",
   "metadata": {},
   "source": [
    "Question 7: "
   ]
  },
  {
   "cell_type": "code",
   "execution_count": 7,
   "id": "f22e9e1e",
   "metadata": {},
   "outputs": [
    {
     "name": "stdout",
     "output_type": "stream",
     "text": [
      "Years range from  1990 to 2019\n"
     ]
    },
    {
     "data": {
      "image/png": "[encoded data removed]",
      "text/plain": [
       "<Figure size 432x288 with 1 Axes>"
      ]
     },
     "metadata": {
      "needs_background": "light"
     },
     "output_type": "display_data"
    }
   ],
   "source": [
    "year_counts = gdp_df.value_counts(subset='Year')\n",
    "x = year_counts.index\n",
    "y = year_counts\n",
    "plt.scatter(x,y)\n",
    "plt.title('Observations per Year')\n",
    "plt.xlabel('Year')\n",
    "plt.ylabel('# of Observations')\n",
    "\n",
    "print('Years range from ', x.min(), 'to', x.max())"
   ]
  },
  {
   "cell_type": "markdown",
   "id": "4304c76d",
   "metadata": {},
   "source": [
    "There is an increase of observations taken per year from 1990 to 2019. There is also a slight decrease in observations in the last year, 2019.  "
   ]
  },
  {
   "cell_type": "markdown",
   "id": "2662e563",
   "metadata": {},
   "source": [
    "Question 8:"
   ]
  },
  {
   "cell_type": "code",
   "execution_count": 8,
   "id": "fa8e4b46",
   "metadata": {},
   "outputs": [
    {
     "name": "stdout",
     "output_type": "stream",
     "text": [
      "There are 238 countries represented in the dataset.\n",
      "Countries with less than 30 years of data collected:\n",
      " ['Marshall Islands', 'Micronesia', 'Hungary', 'Turkmenistan', 'Slovak Republic', 'Aruba', 'Cambodia', 'Small states', 'Estonia', 'West Bank and Gaza', 'Bosnia and Herzegovina', 'Lithuania', 'Latvia', 'Serbia', 'Maldives', 'Croatia', 'Moldova', 'Kuwait', 'Montenegro', 'San Marino', 'Libya', 'Kosovo', 'Other small states', 'Liberia', 'Timor-Leste', 'CuraÃ§ao', 'Qatar', 'Palau', 'SÃ£o TomÃ© and Principe', 'Afghanistan', 'Nauru', 'Cayman Islands', 'Sint Maarten (Dutch part)', 'Turks and Caicos Islands', 'Djibouti']\n"
     ]
    },
    {
     "data": {
      "image/png": "[encoded data removed]",
      "text/plain": [
       "<Figure size 2160x360 with 1 Axes>"
      ]
     },
     "metadata": {
      "needs_background": "light"
     },
     "output_type": "display_data"
    }
   ],
   "source": [
    "num_unique_countries = gdp_df.loc[:,'Country'].nunique()\n",
    "print('There are',num_unique_countries, 'countries represented in the dataset.')\n",
    "\n",
    "country_counts = gdp_df.loc[:,'Country'].value_counts()\n",
    "\n",
    "#Countries that have less than 30 years of data \n",
    "underepresented = country_counts[country_counts < 30]\n",
    "x_1 = underepresented.index\n",
    "y_1 = underepresented\n",
    "\n",
    "plt.rcParams[\"figure.figsize\"] = [30, 5]\n",
    "plt.rcParams[\"figure.autolayout\"] = True\n",
    "\n",
    "plt.bar(x_1, y_1, width=0.3)\n",
    "plt.xticks(rotation=45)\n",
    "plt.title('# of Observations vs. Country')\n",
    "plt.xlabel('Country Name')\n",
    "plt.ylabel('# of Years of Data Collection')\n",
    "\n",
    "print(\"Countries with less than 30 years of data collected:\\n\",list(x_1))"
   ]
  },
  {
   "cell_type": "markdown",
   "id": "69409c93",
   "metadata": {},
   "source": [
    "I think these countries are in the category of developing countries, which means they have lower economic performance than fully developed countries. This could be a reason for their lack of GDP data collection. "
   ]
  },
  {
   "cell_type": "markdown",
   "id": "6e3e88ca",
   "metadata": {},
   "source": [
    "Question 9:"
   ]
  },
  {
   "cell_type": "code",
   "execution_count": 9,
   "id": "16992939",
   "metadata": {},
   "outputs": [],
   "source": [
    "gdp_2014 = gdp_df[gdp_df['Year']==2014]"
   ]
  },
  {
   "cell_type": "markdown",
   "id": "fba400fd",
   "metadata": {},
   "source": [
    "Question 10:"
   ]
  },
  {
   "cell_type": "code",
   "execution_count": 10,
   "id": "34f51392",
   "metadata": {},
   "outputs": [
    {
     "name": "stdout",
     "output_type": "stream",
     "text": [
      "count       238.000000\n",
      "mean      19766.710348\n",
      "std       20983.869623\n",
      "min         822.610458\n",
      "25%        4753.110934\n",
      "50%       12209.385755\n",
      "75%       26803.610474\n",
      "max      156514.133850\n",
      "Name: GDP_Per_Capita, dtype: float64\n"
     ]
    }
   ],
   "source": [
    "stats = gdp_2014['GDP_Per_Capita'].describe()\n",
    "print(stats)"
   ]
  },
  {
   "cell_type": "markdown",
   "id": "94120b21",
   "metadata": {},
   "source": [
    "Question 11:"
   ]
  },
  {
   "cell_type": "code",
   "execution_count": 11,
   "id": "10680b5e",
   "metadata": {},
   "outputs": [
    {
     "data": {
      "image/png": "[encoded data removed]",
      "text/plain": [
       "<Figure size 2160x360 with 1 Axes>"
      ]
     },
     "metadata": {
      "needs_background": "light"
     },
     "output_type": "display_data"
    }
   ],
   "source": [
    "plt.hist(gdp_2014['GDP_Per_Capita'], bins=30)\n",
    "plt.title('GDP Per Captia Values for 2014')\n",
    "plt.xlabel('GDP Per Capita in $')\n",
    "plt.ylabel('Frequency')\n",
    "plt.show()"
   ]
  },
  {
   "cell_type": "markdown",
   "id": "73ecb26f",
   "metadata": {},
   "source": [
    "The shape of this ditribution is right skewed. "
   ]
  },
  {
   "cell_type": "markdown",
   "id": "565781db",
   "metadata": {},
   "source": [
    "Question 12:"
   ]
  },
  {
   "cell_type": "code",
   "execution_count": 12,
   "id": "5c7f484d",
   "metadata": {},
   "outputs": [
    {
     "name": "stdout",
     "output_type": "stream",
     "text": [
      "Top 5 Countries 2014:                Country  Year  GDP_Per_Capita\n",
      "3721  Macao SAR, China  2014   156514.133850\n",
      "3691        Luxembourg  2014   108760.916030\n",
      "5138             Qatar  2014    95578.416973\n",
      "5464         Singapore  2014    87808.663157\n",
      "561            Bermuda  2014    77361.104881\n",
      "Bottom 5 Countries 2014:                        Country  Year  GDP_Per_Capita\n",
      "1047  Central African Republic  2014      822.610458\n",
      "827                    Burundi  2014      886.235777\n",
      "3781                    Malawi  2014     1027.208496\n",
      "1422           Dem. Rep. Congo  2014     1029.790785\n",
      "4528                     Niger  2014     1127.615541\n"
     ]
    }
   ],
   "source": [
    "#Top 5 countries \n",
    "top_5_values = (gdp_2014['GDP_Per_Capita'].sort_values(ascending=False)).iloc[:5]\n",
    "top_5_countries_2014 = gdp_df.iloc[top_5_values.index]\n",
    "print('Top 5 Countries 2014:',top_5_countries_2014)\n",
    "\n",
    "#Bottom 5 countries\n",
    "bottom_5_values = (gdp_2014['GDP_Per_Capita'].sort_values(ascending=True)).iloc[:5]\n",
    "bottom_5_countries_2014 = gdp_df.iloc[bottom_5_values.index]\n",
    "print('Bottom 5 Countries 2014:',bottom_5_countries_2014)"
   ]
  },
  {
   "cell_type": "markdown",
   "id": "4be2f553",
   "metadata": {},
   "source": [
    "Question 13:"
   ]
  },
  {
   "cell_type": "code",
   "execution_count": 13,
   "id": "5155b65c",
   "metadata": {},
   "outputs": [],
   "source": [
    "gdp_pivoted = ((gdp_df.pivot(index='Country',columns='Year',values='GDP_Per_Capita'))[[1990, 2017]]).dropna()"
   ]
  },
  {
   "cell_type": "markdown",
   "id": "34d5bb94",
   "metadata": {},
   "source": [
    "Question 14:"
   ]
  },
  {
   "cell_type": "code",
   "execution_count": 14,
   "id": "857c2c15",
   "metadata": {},
   "outputs": [],
   "source": [
    "gdp_pivoted['Percent Change'] = 100*(gdp_pivoted[2017] - gdp_pivoted[1990])/(gdp_pivoted[1990])"
   ]
  },
  {
   "cell_type": "markdown",
   "id": "1e5735ff",
   "metadata": {},
   "source": [
    "Question 15:"
   ]
  },
  {
   "cell_type": "code",
   "execution_count": 15,
   "id": "e477281b",
   "metadata": {},
   "outputs": [
    {
     "name": "stdout",
     "output_type": "stream",
     "text": [
      "There were 17 countries that experienced a negative percent change in GDP from 1990 to 2017\n"
     ]
    }
   ],
   "source": [
    "#Negative % change in gdp \n",
    "negative_per_change_gdp = gdp_pivoted[gdp_pivoted['Percent Change'] < 0]\n",
    "print('There were', len(negative_per_change_gdp),'countries that experienced a negative percent change in GDP from 1990 to 2017')"
   ]
  },
  {
   "cell_type": "markdown",
   "id": "3d760699",
   "metadata": {},
   "source": [
    "Question 16:"
   ]
  },
  {
   "cell_type": "code",
   "execution_count": 16,
   "id": "e79719d1",
   "metadata": {},
   "outputs": [
    {
     "name": "stdout",
     "output_type": "stream",
     "text": [
      "The country with the highest percent change in GDP was: Equatorial Guinea\n"
     ]
    },
    {
     "data": {
      "image/png": "[encoded data removed]",
      "text/plain": [
       "<Figure size 2160x360 with 1 Axes>"
      ]
     },
     "metadata": {
      "needs_background": "light"
     },
     "output_type": "display_data"
    }
   ],
   "source": [
    "highest_change_in_GDP = gdp_pivoted['Percent Change'].idxmax()\n",
    "print('The country with the highest percent change in GDP was:',highest_change_in_GDP)\n",
    "\n",
    "# Line plot with GDP percapita for years 1990-2017\n",
    "eq_gin_gdp_df = gdp_df[gdp_df['Country'] == highest_change_in_GDP]\n",
    "x_3 = eq_gin_gdp_df['Year']\n",
    "y_3 = eq_gin_gdp_df['GDP_Per_Capita']\n",
    "plt.plot(x_3,y_3)\n",
    "plt.title('GDP per Capita vs. Year for ' + highest_change_in_GDP)  \n",
    "plt.xlabel('Year')\n",
    "plt.ylabel('$')\n",
    "plt.rcParams[\"figure.figsize\"] = [10, 5]\n",
    "plt.ylim(0,50000)\n",
    "plt.show()"
   ]
  },
  {
   "cell_type": "code",
   "execution_count": 17,
   "id": "877d75eb",
   "metadata": {},
   "outputs": [
    {
     "name": "stdout",
     "output_type": "stream",
     "text": [
      "The country with the second highest percent change in GDP was: China\n"
     ]
    },
    {
     "data": {
      "image/png": "[encoded data removed]",
      "text/plain": [
       "<Figure size 720x360 with 1 Axes>"
      ]
     },
     "metadata": {
      "needs_background": "light"
     },
     "output_type": "display_data"
    }
   ],
   "source": [
    "#Order the original dataframe, and knock off the top position and then return the index \n",
    "second_highest_change_in_GDP = gdp_pivoted['Percent Change'].sort_values(ascending=False)\n",
    "second_highest_change_in_GDP = second_highest_change_in_GDP.iloc[1:].idxmax()\n",
    "print('The country with the second highest percent change in GDP was:',second_highest_change_in_GDP)\n",
    "\n",
    "# Line plot with GDP percapita for years 1990-2017\n",
    "china_gdp_df = gdp_df[gdp_df['Country'] == second_highest_change_in_GDP]\n",
    "x_4 = china_gdp_df['Year']\n",
    "y_4 = china_gdp_df['GDP_Per_Capita']\n",
    "plt.plot(x_4,y_4)\n",
    "plt.title('GDP per Capita vs. Year for ' + second_highest_change_in_GDP)  \n",
    "plt.xlabel('Year')\n",
    "plt.ylabel('$')\n",
    "plt.rcParams[\"figure.figsize\"] = [10, 5]\n",
    "plt.ylim(0,50000)\n",
    "plt.show()\n"
   ]
  },
  {
   "cell_type": "markdown",
   "id": "8650405a",
   "metadata": {},
   "source": [
    "The trends for these countries vary drastically. Equitorial Guinea seemed to have a dramatic up and down fluctuation of their GDP per capita from 1990 to 2017, while China kept a shallow but steady increase over time. "
   ]
  },
  {
   "cell_type": "markdown",
   "id": "0c3d8a1a",
   "metadata": {},
   "source": [
    "Question 17: "
   ]
  },
  {
   "cell_type": "code",
   "execution_count": 18,
   "id": "82544233",
   "metadata": {},
   "outputs": [],
   "source": [
    "continents = pd.read_csv('../data/continents.csv')"
   ]
  },
  {
   "cell_type": "markdown",
   "id": "742e41f7",
   "metadata": {},
   "source": [
    "Question 18:"
   ]
  },
  {
   "cell_type": "code",
   "execution_count": 19,
   "id": "0fb93458",
   "metadata": {},
   "outputs": [],
   "source": [
    "gdp_df = gdp_df.merge(continents)"
   ]
  },
  {
   "cell_type": "markdown",
   "id": "fd51be75",
   "metadata": {},
   "source": [
    "Question 19:"
   ]
  },
  {
   "cell_type": "code",
   "execution_count": 20,
   "id": "b89e6677",
   "metadata": {},
   "outputs": [
    {
     "name": "stdout",
     "output_type": "stream",
     "text": [
      "Ther are a total of 6 continents in the dataframe.\n"
     ]
    },
    {
     "data": {
      "text/plain": [
       "Text(0.5, 1.0, 'Number of Countries per Continent')"
      ]
     },
     "execution_count": 20,
     "metadata": {},
     "output_type": "execute_result"
    },
    {
     "data": {
      "image/png": "[encoded data removed]",
      "text/plain": [
       "<Figure size 720x360 with 1 Axes>"
      ]
     },
     "metadata": {
      "needs_background": "light"
     },
     "output_type": "display_data"
    }
   ],
   "source": [
    "print('Ther are a total of', continents['Continent'].nunique(), 'continents in the dataframe.') #Print the number of unique continents in the df\n",
    "\n",
    "num_countries_per_con = list([sum(continents['Continent'] == 'Asia')\n",
    "                            , sum(continents['Continent'] == 'Africa')\n",
    "                            , sum(continents['Continent'] == 'Europe')\n",
    "                            , sum(continents['Continent'] == 'North America')\n",
    "                            , sum(continents['Continent'] == 'South America')\n",
    "                            , sum(continents['Continent'] == 'Oceania')]\n",
    "                            )\n",
    "\n",
    "plt.bar(continents['Continent'].unique(),num_countries_per_con)\n",
    "plt.title('Number of Countries per Continent')\n"
   ]
  },
  {
   "cell_type": "markdown",
   "id": "831f3900",
   "metadata": {},
   "source": [
    "Question 20:"
   ]
  },
  {
   "cell_type": "code",
   "execution_count": 21,
   "id": "8ded05d0",
   "metadata": {},
   "outputs": [
    {
     "data": {
      "image/png": "[encoded data removed]",
      "text/plain": [
       "<Figure size 720x360 with 1 Axes>"
      ]
     },
     "metadata": {
      "needs_background": "light"
     },
     "output_type": "display_data"
    }
   ],
   "source": [
    "continents_gdp_2014 = gdp_df[gdp_df['Year'] == 2014]\n",
    "\n",
    "sns.boxplot(data=continents_gdp_2014, x='GDP_Per_Capita', y='Continent' )\n",
    "plt.title('Spread of GDP per Capita for each Continent')\n",
    "plt.show()"
   ]
  },
  {
   "cell_type": "markdown",
   "id": "032e5f27",
   "metadata": {},
   "source": [
    "Question 21 & 22:"
   ]
  },
  {
   "cell_type": "code",
   "execution_count": 22,
   "id": "f4092b77",
   "metadata": {},
   "outputs": [],
   "source": [
    "life_expectancy = pd.read_csv('../data/life_expectancy.csv')\n",
    "life_expectancy = (life_expectancy\n",
    "                    .drop(columns=['Country Code', 'Indicator Name', 'Indicator Code'])\n",
    "                    .melt(id_vars=['Country Name'])\n",
    "                    .rename(columns={'Country Name':'Country','variable':'Year','value':'Life_Expectancy'})\n",
    "                )"
   ]
  },
  {
   "cell_type": "markdown",
   "id": "cd230c90",
   "metadata": {},
   "source": [
    "Question 23:"
   ]
  },
  {
   "cell_type": "code",
   "execution_count": 23,
   "id": "93dbc672",
   "metadata": {},
   "outputs": [
    {
     "name": "stdout",
     "output_type": "stream",
     "text": [
      "The first country with a life expectancy to exceed 80 was Japan .\n"
     ]
    }
   ],
   "source": [
    "#First Country with lE > 80 yrs old, find the earliest year to hit 80\n",
    "life_expectancy_over_80 = (\n",
    "                            life_expectancy\n",
    "                            [life_expectancy['Life_Expectancy'] > 80]\n",
    "                            .sort_values(['Year'])\n",
    "                            )\n",
    "print('The first country with a life expectancy to exceed 80 was', life_expectancy_over_80['Country'].iloc[0],'.')"
   ]
  },
  {
   "cell_type": "markdown",
   "id": "e0fbaf97",
   "metadata": {},
   "source": [
    "Question 24:"
   ]
  },
  {
   "cell_type": "code",
   "execution_count": 24,
   "id": "928fbdcc",
   "metadata": {},
   "outputs": [],
   "source": [
    "#Making anew variable because I dont have one called gdp_per_capita up to this point\n",
    "gdp_per_capita = pd.read_csv('../data/gdp_per_capita.csv', nrows=6868)\n",
    "gdp_per_capita = (gdp_per_capita\n",
    "                    .drop(columns=['Value Footnotes'])\n",
    "                    .rename(columns={'Country or Area':'Country','Value':'GDP_Per_Capita'})\n",
    "                )\n",
    "#Merge the two DF's, must convert year on life expectany to int64 from str\n",
    "#First Delete Rows with nan\n",
    "life_expectancy = life_expectancy.dropna()\n",
    "life_expectancy['Year'] = pd.to_numeric(life_expectancy['Year'])\n",
    "gdp_le = gdp_per_capita.merge(life_expectancy)"
   ]
  },
  {
   "cell_type": "code",
   "execution_count": 25,
   "id": "50113eae",
   "metadata": {},
   "outputs": [
    {
     "data": {
      "text/html": [
       "<div>\n",
       "<style scoped>\n",
       "    .dataframe tbody tr th:only-of-type {\n",
       "        vertical-align: middle;\n",
       "    }\n",
       "\n",
       "    .dataframe tbody tr th {\n",
       "        vertical-align: top;\n",
       "    }\n",
       "\n",
       "    .dataframe thead th {\n",
       "        text-align: right;\n",
       "    }\n",
       "</style>\n",
       "<table border=\"1\" class=\"dataframe\">\n",
       "  <thead>\n",
       "    <tr style=\"text-align: right;\">\n",
       "      <th></th>\n",
       "      <th>Country</th>\n",
       "      <th>Year</th>\n",
       "      <th>GDP_Per_Capita</th>\n",
       "      <th>Life_Expectancy</th>\n",
       "    </tr>\n",
       "  </thead>\n",
       "  <tbody>\n",
       "    <tr>\n",
       "      <th>0</th>\n",
       "      <td>Afghanistan</td>\n",
       "      <td>2019</td>\n",
       "      <td>2065.036398</td>\n",
       "      <td>64.833</td>\n",
       "    </tr>\n",
       "    <tr>\n",
       "      <th>1</th>\n",
       "      <td>Afghanistan</td>\n",
       "      <td>2018</td>\n",
       "      <td>2033.779002</td>\n",
       "      <td>64.486</td>\n",
       "    </tr>\n",
       "    <tr>\n",
       "      <th>2</th>\n",
       "      <td>Afghanistan</td>\n",
       "      <td>2017</td>\n",
       "      <td>2058.383832</td>\n",
       "      <td>64.130</td>\n",
       "    </tr>\n",
       "    <tr>\n",
       "      <th>3</th>\n",
       "      <td>Afghanistan</td>\n",
       "      <td>2016</td>\n",
       "      <td>2057.062164</td>\n",
       "      <td>63.763</td>\n",
       "    </tr>\n",
       "    <tr>\n",
       "      <th>4</th>\n",
       "      <td>Afghanistan</td>\n",
       "      <td>2015</td>\n",
       "      <td>2068.265904</td>\n",
       "      <td>63.377</td>\n",
       "    </tr>\n",
       "  </tbody>\n",
       "</table>\n",
       "</div>"
      ],
      "text/plain": [
       "       Country  Year  GDP_Per_Capita  Life_Expectancy\n",
       "0  Afghanistan  2019     2065.036398           64.833\n",
       "1  Afghanistan  2018     2033.779002           64.486\n",
       "2  Afghanistan  2017     2058.383832           64.130\n",
       "3  Afghanistan  2016     2057.062164           63.763\n",
       "4  Afghanistan  2015     2068.265904           63.377"
      ]
     },
     "execution_count": 25,
     "metadata": {},
     "output_type": "execute_result"
    }
   ],
   "source": [
    "gdp_le.head()"
   ]
  },
  {
   "cell_type": "code",
   "execution_count": 26,
   "id": "8f0ac986",
   "metadata": {},
   "outputs": [
    {
     "data": {
      "text/html": [
       "<div>\n",
       "<style scoped>\n",
       "    .dataframe tbody tr th:only-of-type {\n",
       "        vertical-align: middle;\n",
       "    }\n",
       "\n",
       "    .dataframe tbody tr th {\n",
       "        vertical-align: top;\n",
       "    }\n",
       "\n",
       "    .dataframe thead th {\n",
       "        text-align: right;\n",
       "    }\n",
       "</style>\n",
       "<table border=\"1\" class=\"dataframe\">\n",
       "  <thead>\n",
       "    <tr style=\"text-align: right;\">\n",
       "      <th></th>\n",
       "      <th>Country</th>\n",
       "      <th>Year</th>\n",
       "      <th>GDP_Per_Capita</th>\n",
       "      <th>Life_Expectancy</th>\n",
       "    </tr>\n",
       "  </thead>\n",
       "  <tbody>\n",
       "    <tr>\n",
       "      <th>6109</th>\n",
       "      <td>Zimbabwe</td>\n",
       "      <td>1994</td>\n",
       "      <td>3263.934978</td>\n",
       "      <td>52.044</td>\n",
       "    </tr>\n",
       "    <tr>\n",
       "      <th>6110</th>\n",
       "      <td>Zimbabwe</td>\n",
       "      <td>1993</td>\n",
       "      <td>3033.504852</td>\n",
       "      <td>53.653</td>\n",
       "    </tr>\n",
       "    <tr>\n",
       "      <th>6111</th>\n",
       "      <td>Zimbabwe</td>\n",
       "      <td>1992</td>\n",
       "      <td>3054.889178</td>\n",
       "      <td>55.243</td>\n",
       "    </tr>\n",
       "    <tr>\n",
       "      <th>6112</th>\n",
       "      <td>Zimbabwe</td>\n",
       "      <td>1991</td>\n",
       "      <td>3426.598094</td>\n",
       "      <td>56.749</td>\n",
       "    </tr>\n",
       "    <tr>\n",
       "      <th>6113</th>\n",
       "      <td>Zimbabwe</td>\n",
       "      <td>1990</td>\n",
       "      <td>3324.348171</td>\n",
       "      <td>58.100</td>\n",
       "    </tr>\n",
       "  </tbody>\n",
       "</table>\n",
       "</div>"
      ],
      "text/plain": [
       "       Country  Year  GDP_Per_Capita  Life_Expectancy\n",
       "6109  Zimbabwe  1994     3263.934978           52.044\n",
       "6110  Zimbabwe  1993     3033.504852           53.653\n",
       "6111  Zimbabwe  1992     3054.889178           55.243\n",
       "6112  Zimbabwe  1991     3426.598094           56.749\n",
       "6113  Zimbabwe  1990     3324.348171           58.100"
      ]
     },
     "execution_count": 26,
     "metadata": {},
     "output_type": "execute_result"
    }
   ],
   "source": [
    "gdp_le.tail()"
   ]
  },
  {
   "cell_type": "markdown",
   "id": "5eecdad5",
   "metadata": {},
   "source": [
    "Question 25:"
   ]
  },
  {
   "cell_type": "code",
   "execution_count": 28,
   "id": "88c8d387",
   "metadata": {},
   "outputs": [
    {
     "name": "stdout",
     "output_type": "stream",
     "text": [
      "38 countries had a life expectancy of at least 80 years old in 2019.\n"
     ]
    }
   ],
   "source": [
    "gdp_le_2019 = gdp_le[(gdp_le['Year'] == 2019)]\n",
    "\n",
    "print(len(gdp_le_2019[gdp_le_2019['Life_Expectancy'] >= 80]), 'countries had a life expectancy of at least 80 years old in 2019.')            "
   ]
  },
  {
   "cell_type": "markdown",
   "id": "ef69bf24",
   "metadata": {},
   "source": [
    "Question 26:"
   ]
  },
  {
   "cell_type": "code",
   "execution_count": 34,
   "id": "2cb49ee4",
   "metadata": {},
   "outputs": [
    {
     "ename": "SyntaxError",
     "evalue": "invalid syntax (1025270098.py, line 5)",
     "output_type": "error",
     "traceback": [
      "\u001b[1;36m  Input \u001b[1;32mIn [34]\u001b[1;36m\u001b[0m\n\u001b[1;33m    for x in range(0,len())\u001b[0m\n\u001b[1;37m                           ^\u001b[0m\n\u001b[1;31mSyntaxError\u001b[0m\u001b[1;31m:\u001b[0m invalid syntax\n"
     ]
    }
   ],
   "source": [
    "top_3_gdp_le_2019 = (gdp_le_2019\n",
    "                    .sort_values(by=['GDP_Per_Capita'], ascending=False)\n",
    "                    .iloc[:3]\n",
    "                    )\n",
    "for x in range(0,len())"
   ]
  },
  {
   "cell_type": "code",
   "execution_count": null,
   "id": "3b792fa4",
   "metadata": {},
   "outputs": [],
   "source": []
  }
 ],
 "metadata": {
  "kernelspec": {
   "display_name": "Python 3.9.12 ('base')",
   "language": "python",
   "name": "python3"
  },
  "language_info": {
   "codemirror_mode": {
    "name": "ipython",
    "version": 3
   },
   "file_extension": ".py",
   "mimetype": "text/x-python",
   "name": "python",
   "nbconvert_exporter": "python",
   "pygments_lexer": "ipython3",
   "version": "3.9.12"
  },
  "vscode": {
   "interpreter": {
    "hash": "08210294964727e4010dccc398c44f22b92a2e77e2aceea574ad21eae77cd8e8"
   }
  }
 },
 "nbformat": 4,
 "nbformat_minor": 5
}
